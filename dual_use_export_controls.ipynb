{
 "cells": [
  {
   "cell_type": "code",
   "execution_count": 1,
   "metadata": {
    "collapsed": false,
    "deletable": true,
    "editable": true
   },
   "outputs": [
    {
     "data": {
      "application/javascript": [
       "require(\"notebook/js/cell\").Cell.options_default.cm_config.lineWrapping = true;\n",
       "require(['notebook/js/codecell'], function(codecell) {\n",
       "    codecell.CodeCell.options_default.highlight_modes['magic_markdown'] = {'reg':[/^%%dis|^%%doc/]}; \n",
       "    Jupyter.notebook.events.one('kernel_ready.Kernel', function(){\n",
       "      Jupyter.notebook.get_cells().map(function(cell){\n",
       "          if (cell.cell_type == 'code'){ cell.auto_highlight(); } }) ;\n",
       "      });\n",
       "   });\n"
      ]
     },
     "metadata": {},
     "output_type": "display_data"
    },
    {
     "data": {
      "text/html": [
       "<span>$\\newcommand{\\unit}[1]{\\mathrm{\\; #1}}$</span>\n",
       "<span>$\\newcommand{\\ce}[1]{\\mathrm{#1}}$</span>\n",
       "<link rel=\"stylesheet\" href=\"https://cdn.rawgit.com/tiaanduplessis/wenk/master/dist/wenk.css\">\n",
       "<style> span.abbr{ color: #999; } </style>\n",
       "<style> [data-wenk]:after { z-index: 1000000000; } </style>\n"
      ]
     },
     "metadata": {},
     "output_type": "display_data"
    },
    {
     "data": {
      "text/latex": [
       "\\part{Front Matter}"
      ],
      "text/plain": [
       "<IPython.core.display.Latex object>"
      ]
     },
     "metadata": {},
     "output_type": "display_data"
    },
    {
     "data": {
      "text/latex": [
       "\\def\\nameofchapter{Front Matter}"
      ],
      "text/plain": [
       "<IPython.core.display.Latex object>"
      ]
     },
     "metadata": {},
     "output_type": "display_data"
    }
   ],
   "source": [
    "import lyxithea.lyxithea as lyx\n",
    "import lyxithea.puslides as lyxs\n",
    "from pyg import twod as pyg2d\n",
    "from pyg.colors import pu as puc\n",
    "import numpy as np\n",
    "import bs4\n",
    "\n",
    "lyx.exporting(True)\n",
    "lyx.latex(True)\n",
    "\n",
    "pyg2d.context(\"slides\")\n",
    "bib = lyx.bib('bibs/nonproliferation.bib')\n",
    "slides = lyxs.puslides(bib)\n",
    "slides.chapter_paths(['~/scholarship/duec/'])\n",
    "slides.title('Nuclear Nonproliferation Export Controls and Dual Use: A Crash Course')\n",
    "slides.author(r'Alex Hagen\\textsuperscript{(1)}')\n",
    "slides.subtitle('Invited Presentation')\n",
    "slides.affiliation(r'\\textsuperscript{(1)} Purdue University')\n",
    "slides.venue('ANL\\'s CSS and Purdue University')\n",
    "slides.city('Lafayette, IN and Darien, IL')\n",
    "\n",
    "slides.part('Front Matter')\n",
    "slides.chapter('Front Matter')"
   ]
  },
  {
   "cell_type": "code",
   "execution_count": 2,
   "metadata": {
    "collapsed": false,
    "deletable": true,
    "editable": true
   },
   "outputs": [
    {
     "data": {
      "text/latex": [
       "\\onecolumnslide{\\begin{content} \\Huge\\vfill\n",
       "\n",
       "\\begin{itemize}\n",
       "\\tightlist\n",
       "\\item\n",
       "  To motivate and describe export controls pertaining to dual use items\n",
       "  in nuclear nonproliferation \\vfill\n",
       "\\item\n",
       "  To illuminate issues in the modern nuclear dual use export controls\n",
       "  from a US-centric viewpoint \\vfill\n",
       "\\item\n",
       "  To describe differences and problem points between international and\n",
       "  state internal export controls \\vfill\n",
       "\\end{itemize}\n",
       " \\end{content}}{Objectives of this Presentation}"
      ],
      "text/plain": [
       "<IPython.core.display.Latex object>"
      ]
     },
     "metadata": {},
     "output_type": "display_data"
    }
   ],
   "source": [
    "# objectives\n",
    "slides.onecolumn()\n",
    "slides.t('Objectives of this Presentation')\n",
    "slides.c('''\\Huge\n",
    "\\\\vfill\n",
    "- To motivate and describe export controls pertaining to dual use items in nuclear nonproliferation\n",
    "\\\\vfill\n",
    "- To illuminate issues in the modern nuclear dual use export controls from a US-centric viewpoint\n",
    "\\\\vfill\n",
    "- To describe differences and problem points between international and state internal export controls\n",
    "\\\\vfill\n",
    "''')"
   ]
  },
  {
   "cell_type": "code",
   "execution_count": 3,
   "metadata": {
    "collapsed": false,
    "deletable": true,
    "editable": true
   },
   "outputs": [
    {
     "data": {
      "text/latex": [
       "\\twocolumnslide{\\begin{content} \\centering\\tikz\\node[circle,draw,\n",
       "           text=white, inner sep=1.5cm,\n",
       "           path picture={\n",
       "               \\node at (path picture bounding box.center){\n",
       "                   \\includegraphics[width=4.5cm]{img/avatar.jpg}\n",
       "               };\n",
       "           }]{};\n",
       "\n",
       "\\raggedright\n",
       "\n",
       "\\hypertarget{education}{%\n",
       "\\subsection{Education}\\label{education}}\n",
       "\n",
       "PhDNE - Purdue University - Soon\n",
       "\n",
       "MSNE - Purdue University - August 2014\n",
       "\n",
       "BSNE - Purdue University - May 2012 \\vfill\n",
       " \\end{content}}{\\begin{content} \\hypertarget{research-experience}{%\n",
       "\\subsection{Research Experience}\\label{research-experience}}\n",
       "\n",
       "\\begin{itemize}\n",
       "\\tightlist\n",
       "\\item\n",
       "  Graduate Researcher at Metastable Fluids Research Laboratory\n",
       "\n",
       "  \\begin{itemize}\n",
       "  \\tightlist\n",
       "  \\item\n",
       "    Worked with radiation transport, Neutron generator physics, Linac\n",
       "    physics, Thermal-fluidic detection mechanism, Acoustic finite\n",
       "    element modeling\n",
       "  \\end{itemize}\n",
       "\\item\n",
       "  Design Consultant for Sagamore Adams Laboratory\n",
       "\n",
       "  \\begin{itemize}\n",
       "  \\tightlist\n",
       "  \\item\n",
       "    Physical Design of rotordynamic systems, Robustness and vibration\n",
       "    testing, Export and ruggedization\n",
       "  \\end{itemize}\n",
       "\\item\n",
       "  Laboratory Intern with NEAMES project at Argonne National Laboratory\n",
       "\n",
       "  \\begin{itemize}\n",
       "  \\tightlist\n",
       "  \\item\n",
       "    Reactor Physics, Validation and Verification, leadership computing\n",
       "  \\end{itemize}\n",
       "\\end{itemize}\n",
       " \\end{content}}{Resume}"
      ],
      "text/plain": [
       "<IPython.core.display.Latex object>"
      ]
     },
     "metadata": {},
     "output_type": "display_data"
    }
   ],
   "source": [
    "slides.twocolumn()\n",
    "slides.t('Resume')\n",
    "slides.c(r'''\n",
    "\\centering\\tikz\\node[circle,draw,\n",
    "           text=white, inner sep=1.5cm,\n",
    "           path picture={\n",
    "               \\node at (path picture bounding box.center){\n",
    "                   \\includegraphics[width=4.5cm]{img/avatar.jpg}\n",
    "               };\n",
    "           }]{};\n",
    "\n",
    "\\raggedright\n",
    "## Education\n",
    "\n",
    "PhDNE - Purdue University - Soon\n",
    "\n",
    "MSNE - Purdue University - August 2014\n",
    "\n",
    "BSNE - Purdue University - May 2012\n",
    "\\vfill''')\n",
    "slides.c('''\n",
    "## Research Experience\n",
    "\n",
    "- Graduate Researcher at Metastable Fluids Research Laboratory\n",
    "    - Worked with radiation transport, Neutron generator physics, Linac physics, Thermal-fluidic detection mechanism, Acoustic finite element modeling\n",
    "- Design Consultant for Sagamore Adams Laboratory\n",
    "    - Physical Design of rotordynamic systems, Robustness and vibration testing, Export and ruggedization\n",
    "- Laboratory Intern with NEAMES project at Argonne National Laboratory\n",
    "    - Reactor Physics, Validation and Verification, leadership computing\n",
    "''')"
   ]
  },
  {
   "cell_type": "code",
   "execution_count": 4,
   "metadata": {
    "collapsed": false,
    "deletable": true,
    "editable": true
   },
   "outputs": [
    {
     "data": {
      "text/latex": [
       "\\onecolumnslide{\\begin{content} \\vfill\\bibentry{OTA1993}\\vfill\\bibentry{OTA1994}\\vfill\\bibentry{Crail2006}\\vfill\\bibentry{Stinnett2011}\\vfill\\bibentry{Harris2017}\\vfill\\bibentry{Alavi2017}\\vfill\n",
       " \\end{content}}{Sourcebook}"
      ],
      "text/plain": [
       "<IPython.core.display.Latex object>"
      ]
     },
     "metadata": {},
     "output_type": "display_data"
    }
   ],
   "source": [
    "slides.onecolumn()\n",
    "slides.t('Sourcebook')\n",
    "slides.c(\"\"\"\n",
    "\\\\vfill\n",
    "%s\n",
    "\\\\vfill\n",
    "%s\n",
    "\\\\vfill\n",
    "%s\n",
    "\\\\vfill\n",
    "%s\n",
    "\\\\vfill\n",
    "%s\n",
    "\\\\vfill\n",
    "%s\n",
    "\\\\vfill\"\"\" % (slides._bib.fullcite('OTA1993'),\n",
    "                      slides._bib.fullcite('OTA1994'),\n",
    "                      slides._bib.fullcite('Crail2006'),\n",
    "                      slides._bib.fullcite('Stinnett2011'),\n",
    "                      slides._bib.fullcite('Harris2017'),\n",
    "                      slides._bib.fullcite('Alavi2017'),\n",
    "                      ))"
   ]
  },
  {
   "cell_type": "code",
   "execution_count": 5,
   "metadata": {
    "collapsed": false,
    "deletable": true,
    "editable": true
   },
   "outputs": [
    {
     "data": {
      "text/latex": [
       "\\part{Introduction}"
      ],
      "text/plain": [
       "<IPython.core.display.Latex object>"
      ]
     },
     "metadata": {},
     "output_type": "display_data"
    },
    {
     "data": {
      "text/latex": [
       "\\def\\nameofchapter{Motivation}"
      ],
      "text/plain": [
       "<IPython.core.display.Latex object>"
      ]
     },
     "metadata": {},
     "output_type": "display_data"
    }
   ],
   "source": [
    "slides.part('Introduction')\n",
    "slides.chapter('Motivation')"
   ]
  },
  {
   "cell_type": "code",
   "execution_count": 6,
   "metadata": {
    "collapsed": false,
    "deletable": true,
    "editable": true
   },
   "outputs": [
    {
     "data": {
      "text/latex": [
       "\\tworowleftsidebar{\\begin{content} \\squote{Gwynne Dyer \\cite{Carlin2009}}{That was the twentieth century's task, get through what was inevitably going to come if\n",
       "you go into a technological civilization: which is the ability to blow yourself away - directly,\n",
       "with weapons.}\n",
       " \\end{content}}{\\begin{content} \\squote{Vladimir Lenin \\cite{Alavi2017}}{...the Capitalist West would sell... ...the rope with which to hang it}\n",
       " \\end{content}}{\\begin{content} \\begin{itemize}\n",
       "\\tightlist\n",
       "\\item\n",
       "  The first nuclear nonproliferation concerns were raised before a\n",
       "  nuclear weapon was ever created \\cite{Bird2005}\n",
       "\\item\n",
       "  Bertrand Russel (a famous pacifist) proposed a premptive strike\n",
       "  against the Soviet Union to stop any chance of proliferation\n",
       "  \\cite{Carlin2017}\n",
       "\\end{itemize}\n",
       " \\end{content}}{Proliferation}"
      ],
      "text/plain": [
       "<IPython.core.display.Latex object>"
      ]
     },
     "metadata": {},
     "output_type": "display_data"
    }
   ],
   "source": [
    "slides.tworowleftsidebar()\n",
    "slides.t('Proliferation')\n",
    "slides.c(r'''\n",
    "\\squote{Gwynne Dyer %s}{That was the twentieth century's task, get through what was inevitably going to come if\n",
    "you go into a technological civilization: which is the ability to blow yourself away - directly,\n",
    "with weapons.}\n",
    "''' % slides._bib.pcite('Carlin2009'))\n",
    "slides.c(r'''\n",
    "\\squote{Vladimir Lenin %s}{...the Capitalist West would sell... ...the rope with which to hang it}\n",
    "''' % (slides._bib.pcite('Alavi2017')))\n",
    "slides.c(r'''\n",
    "- The first nuclear nonproliferation concerns were raised before a nuclear weapon was ever\n",
    "created %s\n",
    "- Bertrand Russel (a famous pacifist) proposed a premptive strike against the Soviet Union to\n",
    "stop any chance of proliferation %s\n",
    "''' % (slides._bib.pcite('Bird2005'), slides._bib.pcite('Carlin2017')))"
   ]
  },
  {
   "cell_type": "code",
   "execution_count": 7,
   "metadata": {
    "collapsed": false,
    "deletable": true,
    "editable": true
   },
   "outputs": [
    {
     "data": {
      "text/latex": [
       "\\tworowrightsidebar{\\begin{content} \\hypertarget{modern-state-enemies}{%\n",
       "\\subsection{Modern State Enemies}\\label{modern-state-enemies}}\n",
       "\n",
       "\\begin{itemize}\n",
       "\\tightlist\n",
       "\\item\n",
       "  The top three of Matthew Bunn's nuclear issues facing the new\n",
       "  president are nuclear nonproliferation failure stories \\cite{Bunn2016}\n",
       "\n",
       "  \\begin{itemize}\n",
       "  \\tightlist\n",
       "  \\item\n",
       "    North Korea\n",
       "  \\item\n",
       "    Iran\n",
       "  \\item\n",
       "    An ``Unknown'' nuclear opponent\n",
       "  \\end{itemize}\n",
       "\\end{itemize}\n",
       " \\end{content}}{\\begin{content} \\hypertarget{nuclear-terrorism}{%\n",
       "\\subsection{Nuclear Terrorism}\\label{nuclear-terrorism}}\n",
       "\n",
       "\\begin{itemize}\n",
       "\\tightlist\n",
       "\\item\n",
       "  Nuclear Terrorism is one of this century's grand challenges\n",
       "  \\cite{Engineering2012}\n",
       "\\item\n",
       "  The UN passed Council Resolution 1540 to specifically and universally\n",
       "  enact preventative measures from non-state actors attaining nuclear\n",
       "  weapons of mass destruction \\cite{Crail2006}\n",
       "\\end{itemize}\n",
       " \\end{content}}{\\begin{content} \\hypertarget{balance}{%\n",
       "\\subsection{Balance}\\label{balance}}\n",
       "\n",
       "\\begin{itemize}\n",
       "\\tightlist\n",
       "\\item\n",
       "  Global trade is larger than ever before, and any limiting factor will\n",
       "  be increasingly resisted\n",
       "\\item\n",
       "  The comparative technology complexity difference between everyday life\n",
       "  and that required to make nuclear weapons is ever decreasing\n",
       "\\end{itemize}\n",
       " \\end{content}}{Modern Nuclear Dangers}"
      ],
      "text/plain": [
       "<IPython.core.display.Latex object>"
      ]
     },
     "metadata": {},
     "output_type": "display_data"
    }
   ],
   "source": [
    "slides.tworowrightsidebar()\n",
    "slides.t('Modern Nuclear Dangers')\n",
    "slides.c(r'''\n",
    "## Modern State Enemies\n",
    "\n",
    "- The top three of Matthew Bunn's nuclear issues facing the new president are nuclear nonproliferation failure stories %s\n",
    "    - North Korea\n",
    "    - Iran\n",
    "    - An \"Unknown\" nuclear opponent\n",
    "''' % slides._bib.pcite('Bunn2016'))\n",
    "slides.c(r'''\n",
    "## Nuclear Terrorism\n",
    "\n",
    "- Nuclear Terrorism is one of this century's grand challenges %s\n",
    "- The UN passed Council Resolution 1540 to specifically and universally enact preventative measures from non-state actors attaining nuclear weapons of mass destruction %s\n",
    "''' % (slides._bib.pcite('Engineering2012'), slides._bib.pcite('Crail2006')))\n",
    "slides.c(r'''\n",
    "## Balance\n",
    "\n",
    "- Global trade is larger than ever before, and any limiting factor will be increasingly resisted\n",
    "- The comparative technology complexity difference between everyday life and that required to make nuclear weapons is ever decreasing\n",
    "''')"
   ]
  },
  {
   "cell_type": "code",
   "execution_count": 8,
   "metadata": {
    "collapsed": false,
    "deletable": true,
    "editable": true
   },
   "outputs": [
    {
     "data": {
      "text/latex": [
       "\\def\\nameofchapter{Nonproliferation and Export Controls}"
      ],
      "text/plain": [
       "<IPython.core.display.Latex object>"
      ]
     },
     "metadata": {},
     "output_type": "display_data"
    }
   ],
   "source": [
    "slides.chapter('Nonproliferation and Export Controls')"
   ]
  },
  {
   "cell_type": "code",
   "execution_count": 9,
   "metadata": {
    "collapsed": false,
    "deletable": true,
    "editable": true
   },
   "outputs": [
    {
     "data": {
      "text/latex": [
       "\\onecolumnslide{\\begin{content} \n",
       "\t\t\t\\begin{figure}\n",
       "\t\t\t\t\\centering\n",
       "\t\t\t\t\\includegraphics[width=7.05in]{/Users/ahagen/scholarship/duec/img/nonproliferation_chart.pdf}\n",
       "\t\t\t\t\\caption{Hierarchical View of Nonproliferation\\label{fig:Hierarchical View of Nonproliferation}}\n",
       "\t\t\t\\end{figure} \\end{content}}{Nonproliferation - A hierarchical view}"
      ],
      "text/plain": [
       "<IPython.core.display.Latex object>"
      ]
     },
     "metadata": {},
     "output_type": "display_data"
    }
   ],
   "source": [
    "slides.onecolumn()\n",
    "slides.slidetitle('Nonproliferation - A hierarchical view')\n",
    "slides.slidecontent(pyg2d.svg('img/nonproliferation_chart.pdf'), caption='Hierarchical View of Nonproliferation' )"
   ]
  },
  {
   "cell_type": "code",
   "execution_count": 10,
   "metadata": {
    "collapsed": false,
    "deletable": true,
    "editable": true
   },
   "outputs": [
    {
     "data": {
      "text/latex": [
       "\\twocolumnshiftright{\\begin{content} \n",
       "\t\t\t\t\\begin{figure}\n",
       "\t\t\t\t\t\\centering\n",
       "\t\t\t\t\t\\input{img/dualuse.pgf}\n",
       "\t\t\t\t\t\\caption{Schematic representation of research, development, and assembly of a nuclear weapon\\label{fig:}}\n",
       "\t\t\t\t\\end{figure} \\end{content}}{\\begin{content} \\begin{itemize}\n",
       "\\tightlist\n",
       "\\item\n",
       "  Dual Use Items include \\cite{OTA1993}\n",
       "\n",
       "  \\begin{itemize}\n",
       "  \\tightlist\n",
       "  \\item\n",
       "    A Nuclear Reactor\n",
       "  \\item\n",
       "    Neutron Generators\n",
       "  \\item\n",
       "    Lowly Enriched Uranium\n",
       "  \\item\n",
       "    High Explosives\n",
       "  \\item\n",
       "    Explosive shaping isostatic presses\n",
       "  \\item\n",
       "    Maraging Steel\n",
       "  \\item\n",
       "    High Precision CNC Lathes\n",
       "  \\item\n",
       "    Beryllium*, Hafnium, Zirconium\n",
       "  \\item\n",
       "    Valves\n",
       "  \\item\n",
       "    Lasers\n",
       "  \\item\n",
       "    Supercomputers\n",
       "  \\end{itemize}\n",
       "\\end{itemize}\n",
       " \\end{content}}{Dual Use}"
      ],
      "text/plain": [
       "<IPython.core.display.Latex object>"
      ]
     },
     "metadata": {},
     "output_type": "display_data"
    }
   ],
   "source": [
    "from matplotlib.sankey import Sankey\n",
    "slides.twocolumnshiftright()\n",
    "slides.t('Dual Use')\n",
    "plot = pyg2d.pyg2d()\n",
    "plot.xticks([], [])\n",
    "plot.yticks([], [])\n",
    "sankey = Sankey(ax=plot.ax, unit=None, offset=0.25)\n",
    "sankey.add(flows=[0.20, 0.60, 0.20, -1.0],\n",
    "           labels=['Device Assembly', 'Fissile Material', 'Delivery System', 'Completed Warhead'],\n",
    "           orientations=[-1, 0, 1, 0], rotation=-90, ec='none', fc=puc.pu_colors['red'])\n",
    "sankey.add(flows=[0.4, 0.1, 0.1, -0.60],\n",
    "           labels=['Enrichment', 'Purchase', 'Stealing', ''],\n",
    "           orientations=[-1, 0, 1, 0], prior=0, connect=(1,3), ec='none', fc=puc.pu_colors['newgold'])\n",
    "sankey.add(flows=[0.05, 0.05, 0.05, 0.05, -0.2],\n",
    "           labels=['Trigger', 'Tamper', 'Explosives', 'Boost', ''],\n",
    "           orientations=[-1, -1, -1, -1, 1], prior=0, connect=(0, 4), ec='none', fc=puc.pu_colors['gray'])\n",
    "sankey.add(flows=[0.1, 0.1, -0.2],\n",
    "           labels=['Guidance', 'Aerodynamics', ''],\n",
    "           orientations=[1, 1, -1], prior=0, connect=(2, 2), ec='none', fc=puc.pu_colors['blue'])\n",
    "diagrams = sankey.finish()\n",
    "diagrams[0].texts[-1].set_color('r')\n",
    "diagrams[0].text.set_fontweight('bold')\n",
    "for diagram in diagrams:\n",
    "    diagram.text.set_fontweight('bold')\n",
    "    diagram.text.set_fontsize('10')\n",
    "    diagram.text.set_color('black')\n",
    "    for text in diagram.texts:\n",
    "        text.set_fontsize('10')\n",
    "        text.set_color('black')\n",
    "        \n",
    "plot.ax.spines['bottom'].set_visible(False)\n",
    "plot.ax.spines['left'].set_visible(False)\n",
    "#plot.export('img/proliferation_sankey', ratio='invgolden', force=True)\n",
    "#plot.show('', label='')\n",
    "slides.c(plot, filename='img/dualuse', caption='Schematic representation of research, development, and assembly of a nuclear weapon', label='')\n",
    "slides.c('''\n",
    "- Dual Use Items include %s\n",
    "    - A Nuclear Reactor\n",
    "    - Neutron Generators\n",
    "    - Lowly Enriched Uranium\n",
    "    - High Explosives\n",
    "    - Explosive shaping isostatic presses\n",
    "    - Maraging Steel\n",
    "    - High Precision CNC Lathes\n",
    "    - Beryllium*, Hafnium, Zirconium\n",
    "    - Valves\n",
    "    - Lasers\n",
    "    - Supercomputers''' % slides._bib.pcite('OTA1993'))"
   ]
  },
  {
   "cell_type": "code",
   "execution_count": 11,
   "metadata": {
    "collapsed": false,
    "deletable": true,
    "editable": true
   },
   "outputs": [
    {
     "data": {
      "text/latex": [
       "\\onecolumnslide{\\begin{content} \n",
       "\t\t\t\\begin{figure}\n",
       "\t\t\t\t\\centering\n",
       "\t\t\t\t\\includegraphics[width=7.05in]{/Users/ahagen/scholarship/duec/img/heu.pdf}\n",
       "\t\t\t\t\\caption{Map of HEU stockpiles and processing plants\\label{fig:Map of HEU stockpiles and processing plants}}\n",
       "\t\t\t\\end{figure} \\end{content}}{Proliferation - A Global Issue}"
      ],
      "text/plain": [
       "<IPython.core.display.Latex object>"
      ]
     },
     "metadata": {},
     "output_type": "display_data"
    }
   ],
   "source": [
    "slides.onecolumn()\n",
    "slides.t('Proliferation - A Global Issue')\n",
    "slides.c(pyg2d.svg('img/heu.pdf'), caption='Map of HEU stockpiles and processing plants')"
   ]
  },
  {
   "cell_type": "code",
   "execution_count": 12,
   "metadata": {
    "collapsed": false,
    "deletable": true,
    "editable": true
   },
   "outputs": [
    {
     "data": {
      "text/latex": [
       "\\def\\nameofchapter{Failures of Nonproliferation}"
      ],
      "text/plain": [
       "<IPython.core.display.Latex object>"
      ]
     },
     "metadata": {},
     "output_type": "display_data"
    }
   ],
   "source": [
    "slides.chapter('Failures of Nonproliferation')"
   ]
  },
  {
   "cell_type": "code",
   "execution_count": 13,
   "metadata": {
    "collapsed": false,
    "deletable": true,
    "editable": true
   },
   "outputs": [
    {
     "data": {
      "text/latex": [
       "\\tworowpushup{\\begin{content} \\begin{itemize}\n",
       "\\tightlist\n",
       "\\item\n",
       "  Six countries attained warheads before the NPT (1968)\n",
       "\\item\n",
       "  Four attained warheads after the NPT, only one (South Africa) no\n",
       "  longer has them\n",
       "\\item\n",
       "  Three attained warheads because of the fall of the U.S.S.R. and\n",
       "  subsequently returned them \\cite{Norris2010}\n",
       "\\end{itemize}\n",
       " \\end{content}}{\\begin{content} \n",
       "\t\t\t\t\\begin{figure}\n",
       "\t\t\t\t\t\\centering\n",
       "\t\t\t\t\t\\input{stockpiles.pgf}\n",
       "\t\t\t\t\t\\caption{Logarithmic (per country) count of warheads per country throughout time with some important events indicated \\cite{Norris2010}\\label{fig:somelabel}}\n",
       "\t\t\t\t\\end{figure} \\end{content}}{Timeline of Proliferation}"
      ],
      "text/plain": [
       "<IPython.core.display.Latex object>"
      ]
     },
     "metadata": {},
     "output_type": "display_data"
    }
   ],
   "source": [
    "from pyg.colors import pu as puc\n",
    "slides.tworowpushup()\n",
    "slides.t('Timeline of Proliferation')\n",
    "\n",
    "with open('stockpiles.html', 'r') as f:\n",
    "    string = f.read()\n",
    "\n",
    "\n",
    "bs = bs4.BeautifulSoup(string, 'lxml')\n",
    "\n",
    "#print bs\n",
    "results = {}\n",
    "for row in bs.findAll('tr'):\n",
    "    aux = row.findAll('td')\n",
    "    _row = []\n",
    "    for cell in aux[1:-1]:\n",
    "        _row.extend([float(cell.string)])\n",
    "    results[aux[0].string] = _row\n",
    "\n",
    "years = results['Country']\n",
    "del results['Country']\n",
    "plot = pyg2d.pyg2d()\n",
    "stockpiles = []\n",
    "order = ['United States', 'Russia', 'United Kingdom', 'France', 'China', 'Israel', 'India', 'South Africa', 'Pakistan', 'North Korea', 'Kazakhstan', 'Ukraine', 'Belarus']\n",
    "for key in order:\n",
    "    row = []\n",
    "    for value in results[key]:\n",
    "        if value > 0.0:\n",
    "            value = np.log10(value)\n",
    "        row.extend([value])\n",
    "    stockpiles.extend([row])\n",
    "\n",
    "pucols = puc.pu_colors.copy()\n",
    "del pucols['teal']\n",
    "del pucols['black']\n",
    "del pucols['white']\n",
    "del pucols['brown']\n",
    "del pucols['gray']\n",
    "del pucols['lightgray']\n",
    "del pucols['lightlightgray']\n",
    "colors = [puc.pu_colors['newgold'], puc.pu_colors['gray'], puc.pu_colors['teal'], puc.pu_colors['purple'],\n",
    "          puc.pu_colors['oldgold'], puc.pu_colors['red'], puc.pu_colors['blue'], puc.pu_colors['orange'],\n",
    "          puc.pu_colors['green']] + pucols.values()\n",
    "plot.stackplot(years, stockpiles, labels=order, colors=colors)\n",
    "plot.add_vline(1968, ymax=40., color=puc.pu_colors['gray'], ls='--')\n",
    "plot.add_text(1968-1, 35, 'NPT passed', rotation=90)\n",
    "plot.add_vline(1991, ymax=40., color=puc.pu_colors['gray'], ls='--')\n",
    "plot.add_text(1991-1, 35, 'USSR dissolves', rotation=90)\n",
    "plot.add_vline(2004, ymax=40., color=puc.pu_colors['gray'], ls='--')\n",
    "plot.add_text(2004-1, 35, 'UNCR1540 passed', rotation=90)\n",
    "plot.legend(loc=2)\n",
    "plot.ylim(0, 40)\n",
    "plot.xlabel(r'Time ($t$) [$\\unit{Year}$]')\n",
    "plot.ylabel(r'Logarithm of warheads per country ($\\log\\left(y\\right)$) [ ]')\n",
    "slides.c(r'''\n",
    "- Six countries attained warheads before the NPT (1968)\n",
    "- Four attained warheads after the NPT, only one (South Africa) no longer has them\n",
    "- Three attained warheads because of the fall of the U.S.S.R. and subsequently returned them %s''' % slides._bib.pcite('Norris2010'))\n",
    "slides.c(plot, filename='stockpiles', caption='Logarithmic (per country) count of warheads per country throughout time with some important events indicated %s' % slides._bib.pcite('Norris2010'),\n",
    "         label='somelabel')\n"
   ]
  },
  {
   "cell_type": "code",
   "execution_count": 14,
   "metadata": {
    "collapsed": false,
    "deletable": true,
    "editable": true
   },
   "outputs": [
    {
     "data": {
      "text/latex": [
       "\\tworowpushup{\\begin{content} \\begin{itemize}\n",
       "\\tightlist\n",
       "\\item\n",
       "  A.Q. Khan's proliferation network almost single handedly proliferated\n",
       "  nuclear weapons to many states and some non-state actors\n",
       "\\item\n",
       "  Showed ability of non nuclear states to still develop technology\n",
       "  without the expertise to perform export controls \\cite{Albright2005}\n",
       "\\end{itemize}\n",
       " \\end{content}}{\\begin{content} \n",
       "\t\t\t\\begin{figure}\n",
       "\t\t\t\t\\centering\n",
       "\t\t\t\t\\includegraphics[width=4.98in]{/Users/ahagen/scholarship/duec/img/khan.pdf}\n",
       "\t\t\t\t\\caption{Map of A.Q. Khan's Influence\\label{fig:Map of A.Q. Khan's Influence}}\n",
       "\t\t\t\\end{figure} \\end{content}}{A.Q. Khan's Proliferation Network}"
      ],
      "text/plain": [
       "<IPython.core.display.Latex object>"
      ]
     },
     "metadata": {},
     "output_type": "display_data"
    }
   ],
   "source": [
    "slides.tworowpushup()\n",
    "slides.t('A.Q. Khan\\'s Proliferation Network')\n",
    "slides.c(r'''\n",
    "- A.Q. Khan's proliferation network almost single handedly proliferated nuclear weapons to\n",
    "many states and some non-state actors\n",
    "- Showed ability of non nuclear states to still develop technology without the expertise to\n",
    "perform export controls %s''' % slides._bib.pcite('Albright2005'))\n",
    "slides.c(pyg2d.svg('img/khan.pdf'), caption='Map of A.Q. Khan\\'s Influence' )"
   ]
  },
  {
   "cell_type": "code",
   "execution_count": 15,
   "metadata": {
    "collapsed": false,
    "deletable": true,
    "editable": true
   },
   "outputs": [
    {
     "data": {
      "text/latex": [
       "\\part{Issues}"
      ],
      "text/plain": [
       "<IPython.core.display.Latex object>"
      ]
     },
     "metadata": {},
     "output_type": "display_data"
    },
    {
     "data": {
      "text/latex": [
       "\\def\\nameofchapter{Problems with Current Export Controls}"
      ],
      "text/plain": [
       "<IPython.core.display.Latex object>"
      ]
     },
     "metadata": {},
     "output_type": "display_data"
    }
   ],
   "source": [
    "slides.part('Issues')\n",
    "slides.chapter('Problems with Current Export Controls')"
   ]
  },
  {
   "cell_type": "code",
   "execution_count": 16,
   "metadata": {
    "collapsed": false,
    "deletable": true,
    "editable": true
   },
   "outputs": [
    {
     "data": {
      "text/latex": [
       "\\twocolumnslide{\\begin{content} \\hypertarget{proliferation-of-a-nuclear-arsenal}{%\n",
       "\\subsection{Proliferation of a Nuclear\n",
       "Arsenal}\\label{proliferation-of-a-nuclear-arsenal}}\n",
       "\n",
       "\\begin{itemize}\n",
       "\\tightlist\n",
       "\\item\n",
       "  Requires a large infrastructure and monetary investment\n",
       "\\item\n",
       "  More likely to be an end-goal for state actors\n",
       "\\item\n",
       "  Detection of activities related to nuclear arsenal attainment would\n",
       "  include enrichment technologies \\cite{OTA1993}\n",
       "\\item\n",
       "  Determined proliferant state could withstand political pressure,\n",
       "  economic sanctions \\cite{Romaniuk2017}\n",
       "\\end{itemize}\n",
       " \\end{content}}{\\begin{content} \\hypertarget{proliferation-of-a-single-nuclear-device}{%\n",
       "\\subsection{Proliferation of a Single Nuclear\n",
       "Device}\\label{proliferation-of-a-single-nuclear-device}}\n",
       "\n",
       "\\begin{itemize}\n",
       "\\tightlist\n",
       "\\item\n",
       "  More likely to be an end-goal for non-state actors\n",
       "\\item\n",
       "  For a gun-type weapon, would only require \\(12\\unit{kg}\\) of HEU, or\n",
       "  \\(4\\unit{kg}\\) of WGP \\cite{InternationalPanelonFissileMaterials2015},\n",
       "  tamper, and a propellant\n",
       "  \\cite{InternationalPanelonFissileMaterials2015}\n",
       "\\item\n",
       "  Sufficient fissile material is likely already available through covert\n",
       "  means: Russia has a \\(125\\unit{ton}\\) uncertainty on its HEU stockpile\n",
       "\\end{itemize}\n",
       "\n",
       "\\squote{Oppenheimer \\cite{Mowatt-Larssen2009}}{\"What instrument would you use to detect an atomic bomb hidden somewhere in a city?\"\n",
       "\"A screwdriver\"}\n",
       " \\end{content}}{Arsenal versus Bomb}"
      ],
      "text/plain": [
       "<IPython.core.display.Latex object>"
      ]
     },
     "metadata": {},
     "output_type": "display_data"
    }
   ],
   "source": [
    "slides.twocolumn()\n",
    "slides.t('Arsenal versus Bomb')\n",
    "slides.c(r'''\n",
    "## Proliferation of a Nuclear Arsenal\n",
    "\n",
    "- Requires a large infrastructure and monetary investment\n",
    "- More likely to be an end-goal for state actors\n",
    "- Detection of activities related to nuclear arsenal attainment would include enrichment\n",
    "technologies %s\n",
    "- Determined proliferant state could withstand political pressure, economic sanctions %s\n",
    "''' % (slides._bib.pcite('OTA1993'), slides._bib.pcite('Romaniuk2017')))\n",
    "slides.c(r'''\n",
    "## Proliferation of a Single Nuclear Device\n",
    "\n",
    "- More likely to be an end-goal for non-state actors\n",
    "- For a gun-type weapon, would only require $12\\unit{kg}$ of HEU, or $4\\unit{kg}$ of WGP %s,\n",
    "tamper, and a propellant %s\n",
    "- Sufficient fissile material is likely already available through covert means: Russia has a\n",
    "$125\\unit{ton}$ uncertainty on its HEU stockpile\n",
    "\n",
    "\\squote{Oppenheimer %s}{\"What instrument would you use to detect an atomic bomb hidden somewhere in a city?\"\n",
    "\"A screwdriver\"}\n",
    "''' % (slides._bib.pcite('InternationalPanelonFissileMaterials2015'),\n",
    "       slides._bib.pcite('InternationalPanelonFissileMaterials2015'),\n",
    "       slides._bib.pcite('Mowatt-Larssen2009')))"
   ]
  },
  {
   "cell_type": "code",
   "execution_count": 17,
   "metadata": {
    "collapsed": false,
    "deletable": true,
    "editable": true
   },
   "outputs": [
    {
     "data": {
      "text/latex": [
       "\\tworowpushup{\\begin{content} \\begin{itemize}\n",
       "\\tightlist\n",
       "\\item\n",
       "  A.Q. Khan and Asher Karni showed that dense supplier schemes can and\n",
       "  will be used by a proliferant, allowing exploitation of the\n",
       "  \\emph{weakest link} in nuclear security\n",
       "\\item\n",
       "  Many countries have weak nuclear security or no intention on complying\n",
       "  on nuclear security\n",
       "\\end{itemize}\n",
       " \\end{content}}{\\begin{content} \\hypertarget{weak-countries}{%\n",
       "\\subsection{Weak Countries}\\label{weak-countries}}\n",
       "\n",
       "\\begin{itemize}\n",
       "\\tightlist\n",
       "\\item\n",
       "  Of the 84 key states (including weapons and transit states), only five\n",
       "  of them scored higher than \\(50\\unit{\\%}\\) on export control\n",
       "  compliance of UNSCR 1540 \\cite{Crail2006}\n",
       "\\item\n",
       "  The average compliance was below \\(25\\unit{\\%}\\) for all states,\n",
       "  multiple scored no compliance\n",
       "\\item\n",
       "  Of the 30 states analyzed by Stinnett, 9 states had a score less than\n",
       "  \\(50\\unit{AU}\\) for implementation, and 11 states had a score less\n",
       "  than \\(50\\unit{AU}\\) for institutions \\cite{Stinnett2011}\n",
       "\\end{itemize}\n",
       " \\end{content}}{The Weakest Link}"
      ],
      "text/plain": [
       "<IPython.core.display.Latex object>"
      ]
     },
     "metadata": {},
     "output_type": "display_data"
    }
   ],
   "source": [
    "slides.tworowpushup()\n",
    "slides.t('The Weakest Link')\n",
    "slides.c(r'''\n",
    "- A.Q. Khan and Asher Karni showed that dense supplier schemes can and will be used by a\n",
    "proliferant, allowing exploitation of the *weakest link* in nuclear security\n",
    "- Many countries have weak nuclear security or no intention on complying on nuclear security\n",
    "''')\n",
    "slides.c(r'''\n",
    "## Weak Countries\n",
    "\n",
    "- Of the 84 key states (including weapons and transit states), only five of them scored higher than $50\\unit{\\%%}$ on export control compliance of UNSCR 1540 %s\n",
    "- The average compliance was below $25\\unit{\\%%}$ for all states, multiple scored no compliance\n",
    "- Of the 30 states analyzed by Stinnett, 9 states had a score less than $50\\unit{AU}$ for implementation, and 11 states had a score less than $50\\unit{AU}$ for institutions %s\n",
    "''' % (slides._bib.pcite('Crail2006'), slides._bib.pcite('Stinnett2011')))\n"
   ]
  },
  {
   "cell_type": "code",
   "execution_count": 18,
   "metadata": {
    "collapsed": false,
    "deletable": true,
    "editable": true
   },
   "outputs": [
    {
     "data": {
      "text/latex": [
       "\\tworowrightsidebar{\\begin{content} \\hypertarget{computing}{%\n",
       "\\subsection{Computing}\\label{computing}}\n",
       "\n",
       "\\begin{itemize}\n",
       "\\tightlist\n",
       "\\item\n",
       "  Many were surpised to find that the Playstation 2 was export\n",
       "  controlled \\cite{Sanger1999}\n",
       "\\item\n",
       "  Super computing resources may indicate advanced nuclear arsenal\n",
       "  production\n",
       "\\item\n",
       "  MCNP was cited by entities without licenses \\(\\sim 100 \\times\\) in the\n",
       "  past year \\cite{Basaglia2017}\n",
       "\\end{itemize}\n",
       " \\end{content}}{\\begin{content} \\hypertarget{machining}{%\n",
       "\\subsection{Machining}\\label{machining}}\n",
       "\n",
       "\\begin{itemize}\n",
       "\\tightlist\n",
       "\\item\n",
       "  Famously, Malaysia was able to produce many dual use parts under the\n",
       "  A.Q. Khan proliferation network, despite having no nuclear capability\n",
       "\\item\n",
       "  CNC and other precision technology increasingly available through\n",
       "  commercial and civilian channels\n",
       "\\item\n",
       "  ``Moore's Law'' for technology leads to continual price drops\n",
       "\\end{itemize}\n",
       " \\end{content}}{\\begin{content} \\hypertarget{nuclear-related-technology}{%\n",
       "\\subsection{Nuclear Related\n",
       "Technology}\\label{nuclear-related-technology}}\n",
       "\n",
       "\\begin{itemize}\n",
       "\\tightlist\n",
       "\\item\n",
       "  Neutron generators increasingly used for non-destructive analysis or\n",
       "  interdiction*\n",
       "\\item\n",
       "  Isotopes increasingly used for oil well logging\n",
       "\\item\n",
       "  ``Proliferation'' of reactors and reactor grade materials (Zirconium,\n",
       "  HEU for research reactors) are being encouraged by the IAEA and NPT\n",
       "  \\cite{UnitedNations1968}\n",
       "\\end{itemize}\n",
       " \\end{content}}{Common Use}"
      ],
      "text/plain": [
       "<IPython.core.display.Latex object>"
      ]
     },
     "metadata": {},
     "output_type": "display_data"
    }
   ],
   "source": [
    "slides.tworowrightsidebar()\n",
    "slides.t('Common Use')\n",
    "slides.c(r'''\n",
    "## Computing\n",
    "\n",
    "- Many were surpised to find that the Playstation 2 was export controlled %s\n",
    "- Super computing resources may indicate advanced nuclear arsenal production\n",
    "- MCNP was cited by entities without licenses $\\sim 100 \\times$ in the past year %s\n",
    "''' % (slides._bib.pcite('Sanger1999'), slides._bib.pcite('Basaglia2017')))\n",
    "slides.c(r'''\n",
    "## Machining\n",
    "\n",
    "- Famously, Malaysia was able to produce many dual use parts under the A.Q. Khan proliferation\n",
    "network, despite having no nuclear capability\n",
    "- CNC and other precision technology increasingly available through commercial and civilian\n",
    "channels\n",
    "- \"Moore's Law\" for technology leads to continual price drops\n",
    "''')\n",
    "slides.c(r'''\n",
    "## Nuclear Related Technology\n",
    "\n",
    "- Neutron generators increasingly used for non-destructive analysis or interdiction*\n",
    "- Isotopes increasingly used for oil well logging\n",
    "- \"Proliferation\" of reactors and reactor grade materials (Zirconium,\n",
    "HEU for research reactors) are being encouraged by the IAEA and NPT %s\n",
    "''' % (slides._bib.pcite('UnitedNations1968')))"
   ]
  },
  {
   "cell_type": "code",
   "execution_count": 19,
   "metadata": {
    "collapsed": false,
    "deletable": true,
    "editable": true
   },
   "outputs": [
    {
     "data": {
      "text/latex": [
       "\\twocolumnslide{\\begin{content} \\hypertarget{overt-proliferation}{%\n",
       "\\subsection{Overt Proliferation}\\label{overt-proliferation}}\n",
       "\n",
       "\\begin{itemize}\n",
       "\\tightlist\n",
       "\\item\n",
       "  No country seeking overt proliferation has been stopped (publically)\n",
       "\n",
       "  \\begin{itemize}\n",
       "  \\tightlist\n",
       "  \\item\n",
       "    North Korea has resisted regulations\n",
       "  \\item\n",
       "    Israel is not an NPT signatory\n",
       "  \\end{itemize}\n",
       "\\item\n",
       "  Policy for deterrance of proliferation among determined and overt\n",
       "  proliferants is still wanting\n",
       "\\end{itemize}\n",
       " \\end{content}}{\\begin{content} \\hypertarget{covert-proliferation}{%\n",
       "\\subsection{Covert Proliferation}\\label{covert-proliferation}}\n",
       "\n",
       "\\begin{itemize}\n",
       "\\tightlist\n",
       "\\item\n",
       "  Several countries have benefitted from covert proliferation\n",
       "\n",
       "  \\begin{itemize}\n",
       "  \\tightlist\n",
       "  \\item\n",
       "    Soviet Union's first device is reportedly a copy of an American\n",
       "    design \\cite{OTA1993}\n",
       "  \\item\n",
       "    India, Pakistan, South Africa all surprised the international\n",
       "    community with tests\n",
       "  \\end{itemize}\n",
       "\\item\n",
       "  Covert proliferation requires interdiction to stop it, which is a\n",
       "  complicated problem for fissile material \\cite{ITDB2016}\n",
       "\\item\n",
       "  Interdiction of dual-use goods is exceedingly difficult because of\n",
       "  their diverse and inoccuous nature\n",
       "\\end{itemize}\n",
       " \\end{content}}{(C)overt Proliferation}"
      ],
      "text/plain": [
       "<IPython.core.display.Latex object>"
      ]
     },
     "metadata": {},
     "output_type": "display_data"
    }
   ],
   "source": [
    "slides.twocolumn()\n",
    "slides.t('(C)overt Proliferation')\n",
    "slides.c(r'''\n",
    "## Overt Proliferation\n",
    "\n",
    "- No country seeking overt proliferation has been stopped (publically)\n",
    "    - North Korea has resisted regulations\n",
    "    - Israel is not an NPT signatory\n",
    "- Policy for deterrance of proliferation among determined and overt proliferants is still\n",
    "wanting\n",
    "''')\n",
    "slides.c(r'''\n",
    "## Covert Proliferation\n",
    "\n",
    "- Several countries have benefitted from covert proliferation\n",
    "    - Soviet Union's first device is reportedly a copy of an American design %s\n",
    "    - India, Pakistan, South Africa all surprised the international community with tests\n",
    "- Covert proliferation requires interdiction to stop it, which is a complicated problem for\n",
    "fissile material %s\n",
    "- Interdiction of dual-use goods is exceedingly difficult because of their diverse and\n",
    "inoccuous nature\n",
    "''' % (slides._bib.pcite('OTA1993'), slides._bib.pcite('ITDB2016')))"
   ]
  },
  {
   "cell_type": "code",
   "execution_count": 20,
   "metadata": {
    "collapsed": false,
    "deletable": true,
    "editable": true
   },
   "outputs": [
    {
     "data": {
      "text/latex": [
       "\\twocolumnshiftright{\\begin{content} \\begin{itemize}\n",
       "\\tightlist\n",
       "\\item\n",
       "  Certain items are only possible for dual use if they are of a minimum\n",
       "  specification\n",
       "\\item\n",
       "  These specifications will likely have been created with a factor of\n",
       "  safety in their originating document\n",
       "\\item\n",
       "  A determined proliferant could absorb the economic and possible safety\n",
       "  ramifications of not meeting factor of safety\n",
       "\\item\n",
       "  Originating engineers or those well versed in the technology would be\n",
       "  required to adjust the specifications\n",
       "\\end{itemize}\n",
       " \\end{content}}{\\begin{content} \\hypertarget{some-items-controlled-by-minimum-specification}{%\n",
       "\\subsection{\\texorpdfstring{Some Items Controlled by Minimum\n",
       "Specification\n",
       "\\cite{OTA1993}}{Some Items Controlled by Minimum Specification }}\\label{some-items-controlled-by-minimum-specification}}\n",
       "\n",
       "\\begin{itemize}\n",
       "\\tightlist\n",
       "\\item\n",
       "  CNC Mills\n",
       "\\item\n",
       "  Dimensional Inspection Systems\n",
       "\\item\n",
       "  Furnaces\n",
       "\\item\n",
       "  Isostaic Presses\n",
       "\\item\n",
       "  Centrifugal balancing machines\n",
       "\\item\n",
       "  Lasers\n",
       "\\item\n",
       "  Superconducting Magnets (REBCO?)\n",
       "\\item\n",
       "  Power Supplies\n",
       "\\end{itemize}\n",
       " \\end{content}}{Factor of Safety}"
      ],
      "text/plain": [
       "<IPython.core.display.Latex object>"
      ]
     },
     "metadata": {},
     "output_type": "display_data"
    }
   ],
   "source": [
    "slides.twocolumnshiftright()\n",
    "slides.t('Factor of Safety')\n",
    "slides.c(r'''\n",
    "- Certain items are only possible for dual use if they are of a minimum specification\n",
    "- These specifications will likely have been created with a factor of safety in their\n",
    "originating document\n",
    "- A determined proliferant could absorb the economic and possible safety ramifications of\n",
    "not meeting factor of safety\n",
    "- Originating engineers or those well versed in the technology would be required to adjust the\n",
    "specifications''')\n",
    "slides.c(r'''\n",
    "## Some Items Controlled by Minimum Specification %s\n",
    "- CNC Mills\n",
    "- Dimensional Inspection Systems\n",
    "- Furnaces\n",
    "- Isostaic Presses\n",
    "- Centrifugal balancing machines\n",
    "- Lasers\n",
    "- Superconducting Magnets (REBCO?)\n",
    "- Power Supplies''' % slides._bib.pcite('OTA1993'))"
   ]
  },
  {
   "cell_type": "code",
   "execution_count": 21,
   "metadata": {
    "collapsed": false,
    "deletable": true,
    "editable": true
   },
   "outputs": [
    {
     "data": {
      "text/latex": [
       "\\part{Comparison}"
      ],
      "text/plain": [
       "<IPython.core.display.Latex object>"
      ]
     },
     "metadata": {},
     "output_type": "display_data"
    },
    {
     "data": {
      "text/latex": [
       "\\def\\nameofchapter{International and State Export Control Comparison}"
      ],
      "text/plain": [
       "<IPython.core.display.Latex object>"
      ]
     },
     "metadata": {},
     "output_type": "display_data"
    }
   ],
   "source": [
    "slides.part('Comparison')\n",
    "slides.chapter('International and State Export Control Comparison')"
   ]
  },
  {
   "cell_type": "code",
   "execution_count": 22,
   "metadata": {
    "collapsed": false,
    "deletable": true,
    "editable": true
   },
   "outputs": [
    {
     "data": {
      "text/latex": [
       "\\tworowbottomtwocolumn{\\begin{content} \\hypertarget{legislation}{%\n",
       "\\subsection{Legislation}\\label{legislation}}\n",
       "\n",
       "\\begin{itemize}\n",
       "\\tightlist\n",
       "\\item\n",
       "  The majority of public effort on nonproliferation relates to policy\n",
       "\\item\n",
       "  Many states have established a good legal basis for nonproliferation\n",
       "  and export control\n",
       "\\item\n",
       "  Stinnett found the average score for the legal basis to be\n",
       "  \\(68.2\\unit{AU}\\) and the institutional mean score to be\n",
       "  \\(58.4\\unit{AU}\\) \\cite{Stinnett2011}\n",
       "\\end{itemize}\n",
       " \\end{content}}{\\begin{content} \\hypertarget{capacity}{%\n",
       "\\subsection{Capacity}\\label{capacity}}\n",
       "\n",
       "\\begin{itemize}\n",
       "\\tightlist\n",
       "\\item\n",
       "  Stinnett's metric has a mean score of \\(50.5\\unit{AU}\\) on\n",
       "  implementation of export controls \\cite{Stinnett2011}\n",
       "\\item\n",
       "  Crail's metric grades a \\(23.5\\unit{\\%}\\) fulfillment by the 84 key\n",
       "  states \\cite{Crail2006}\n",
       "\\item\n",
       "  Turkey and South Africa are particularly cited\n",
       "\\end{itemize}\n",
       " \\end{content}}{\\begin{content} \\squote{Stinnett, et Al. \\cite{Stinnett2011}}{[S]tates have made better progress in establishing the legal basis for their export control\n",
       "systems than they have in institutionalizing or implementing them.}\n",
       " \\end{content}}{Legislation versus Capacity}"
      ],
      "text/plain": [
       "<IPython.core.display.Latex object>"
      ]
     },
     "metadata": {},
     "output_type": "display_data"
    }
   ],
   "source": [
    "slides.tworowbottomtwocolumn()\n",
    "slides.t('Legislation versus Capacity')\n",
    "slides.c(r'''\n",
    "## Legislation\n",
    "\n",
    "- The majority of public effort on nonproliferation relates to policy\n",
    "- Many states have established a good legal basis for nonproliferation and export control\n",
    "- Stinnett found the average score for the legal basis to be $68.2\\unit{AU}$ and the institutional mean score to be $58.4\\unit{AU}$ %s\n",
    "''' % (slides._bib.pcite('Stinnett2011')))\n",
    "slides.c(r'''\n",
    "## Capacity\n",
    "\n",
    "- Stinnett's metric has a mean score of $50.5\\unit{AU}$ on implementation of export controls %s\n",
    "- Crail's metric grades a $23.5\\unit{\\%%}$ fulfillment by the 84\n",
    "key states %s\n",
    "- Turkey and South Africa are particularly cited\n",
    "''' % (slides._bib.pcite('Stinnett2011'), slides._bib.pcite('Crail2006')))\n",
    "slides.c(r'''\n",
    "\\squote{Stinnett, et Al. %s}{[S]tates have made better progress in establishing the legal basis for their export control\n",
    "systems than they have in institutionalizing or implementing them.}\n",
    "''' % (slides._bib.pcite('Stinnett2011')))"
   ]
  },
  {
   "cell_type": "code",
   "execution_count": 23,
   "metadata": {
    "collapsed": false,
    "deletable": true,
    "editable": true
   },
   "outputs": [
    {
     "data": {
      "text/latex": [
       "\\tworowrightsidebar{\\begin{content} \\squote{NPT \\cite{UnitedNations1968}}{...potential benefits from any peaceful applications of nuclear explosions will be made\n",
       "available to non-nuclear-weapon States Party to the Treaty on a non-discriminatory basis}\n",
       " \\end{content}}{\\begin{content} \\hypertarget{regulation}{%\n",
       "\\subsection{Regulation}\\label{regulation}}\n",
       "\n",
       "\\begin{itemize}\n",
       "\\tightlist\n",
       "\\item\n",
       "  Export controls are administered \\textbf{discriminately}\n",
       "  \\cite{Early2009} \\cite{OTA1994}\n",
       "\\item\n",
       "  Possibly current administration \\cite{Alavi2017}\n",
       "\\end{itemize}\n",
       " \\end{content}}{\\begin{content} \\hypertarget{free-trade}{%\n",
       "\\subsection{Free Trade}\\label{free-trade}}\n",
       "\n",
       "\\begin{itemize}\n",
       "\\tightlist\n",
       "\\item\n",
       "  More (weapons) technology is developed by commercial interests than\n",
       "  previously\n",
       "\\item\n",
       "  Regulation is a deterrant to research for commercial interests\n",
       "\\item\n",
       "  Previous administration favored this stance \\cite{Alavi2017}\n",
       "\\end{itemize}\n",
       " \\end{content}}{Regulation versus Deregulation}"
      ],
      "text/plain": [
       "<IPython.core.display.Latex object>"
      ]
     },
     "metadata": {},
     "output_type": "display_data"
    }
   ],
   "source": [
    "slides.tworowrightsidebar()\n",
    "slides.t('Regulation versus Deregulation')\n",
    "slides.c(r'''\n",
    "\\squote{NPT %s}{...potential benefits from any peaceful applications of nuclear explosions will be made\n",
    "available to non-nuclear-weapon States Party to the Treaty on a non-discriminatory basis}\n",
    "''' % (slides._bib.pcite('UnitedNations1968')))\n",
    "slides.c(r'''\n",
    "## Regulation\n",
    "\n",
    "- Export controls are administered **discriminately** %s %s\n",
    "- Possibly current administration %s\n",
    "''' % (slides._bib.pcite('Early2009'), slides._bib.pcite('OTA1994'),\n",
    "       slides._bib.pcite('Alavi2017')))\n",
    "slides.c(r'''\n",
    "## Free Trade\n",
    "\n",
    "- More (weapons) technology is developed by commercial interests than previously\n",
    "- Regulation is a deterrant to research for commercial interests\n",
    "- Previous administration favored this stance %s\n",
    "''' % (slides._bib.pcite('Alavi2017')))"
   ]
  },
  {
   "cell_type": "code",
   "execution_count": 24,
   "metadata": {
    "collapsed": false,
    "deletable": true,
    "editable": true
   },
   "outputs": [
    {
     "data": {
      "text/latex": [
       "\\onecolumnslide{\\begin{content} \\squote{Alavi, et Al. \\cite{Alavi2017}}{(In America) the law-maker has adopted numerous regulations that paid little attention to\n",
       "the distinction between low-tech and widely available items and advanced proprietary\n",
       "technologies, which led to the creation of a system of export controls characterised as\n",
       "'fundamentally broken' as well as 'too rigorous, insufficiently rigorous,\n",
       "cumbersome, obsolete, inefficient, or any combination of these'.}\n",
       "\n",
       "\\begin{itemize}\n",
       "\\tightlist\n",
       "\\item\n",
       "  Is convoluted regulation a deterrent to trade?\n",
       "\\item\n",
       "  Open dialogue question\n",
       "\\end{itemize}\n",
       " \\end{content}}{Convoluted Regulations}"
      ],
      "text/plain": [
       "<IPython.core.display.Latex object>"
      ]
     },
     "metadata": {},
     "output_type": "display_data"
    }
   ],
   "source": [
    "slides.onecolumn()\n",
    "slides.t('Convoluted Regulations')\n",
    "slides.c(r'''\n",
    "\n",
    "\\squote{Alavi, et Al. %s}{(In America) the law-maker has adopted numerous regulations that paid little attention to\n",
    "the distinction between low-tech and widely available items and advanced proprietary\n",
    "technologies, which led to the creation of a system of export controls characterised as\n",
    "'fundamentally broken' as well as 'too rigorous, insufficiently rigorous,\n",
    "cumbersome, obsolete, inefficient, or any combination of these'.}\n",
    "\n",
    "- Is convoluted regulation a deterrent to trade?\n",
    "- Open dialogue question\n",
    "''' % (slides._bib.pcite('Alavi2017')))"
   ]
  },
  {
   "cell_type": "code",
   "execution_count": 25,
   "metadata": {
    "collapsed": false,
    "deletable": true,
    "editable": true
   },
   "outputs": [
    {
     "data": {
      "text/latex": [
       "\\tworowbottomtwocolumn{\\begin{content} \\hypertarget{internal-trade}{%\n",
       "\\subsection{Internal Trade}\\label{internal-trade}}\n",
       "\n",
       "\\begin{itemize}\n",
       "\\tightlist\n",
       "\\item\n",
       "  Many sovereign states and now, with additions, some insecure states\n",
       "\\item\n",
       "  New agreements now allow for internal trade without licensing, but\n",
       "  each sovereign state is liable to uphold UNSCR 1540\n",
       "\\item\n",
       "  Cast as trade measures instead of national policy/security measures\n",
       "\\end{itemize}\n",
       " \\end{content}}{\\begin{content} \\hypertarget{external-trade}{%\n",
       "\\subsection{External Trade}\\label{external-trade}}\n",
       "\n",
       "\\begin{itemize}\n",
       "\\tightlist\n",
       "\\item\n",
       "  A country indicated under the CGEA can receive dual use items\n",
       "\\item\n",
       "  A registered customer in an NGEA country can receive specified dual\n",
       "  use goods\n",
       "\\item\n",
       "  A registered customer in a GEA country can receive limited dual use\n",
       "  goods\n",
       "\\item\n",
       "  Other, ad hoc licenses have been granted \\cite{Alavi2017}\n",
       "\\end{itemize}\n",
       " \\end{content}}{\\begin{content} \\begin{itemize}\n",
       "\\tightlist\n",
       "\\item\n",
       "  The EU provides an interesting case study for international versus\n",
       "  internal trade agreements\n",
       "\\item\n",
       "  Up to \\(10\\unit{\\%}\\) of EU trade is dual use goods\n",
       "\\item\n",
       "  \\emph{Aime Richardt} case indicates why each sovereign state must be\n",
       "  able to stop dual use export \\cite{Alavi2017}\n",
       "\\end{itemize}\n",
       " \\end{content}}{EU Internal/External Trade}"
      ],
      "text/plain": [
       "<IPython.core.display.Latex object>"
      ]
     },
     "metadata": {},
     "output_type": "display_data"
    }
   ],
   "source": [
    "slides.tworowbottomtwocolumn()\n",
    "slides.t('EU Internal/External Trade')\n",
    "slides.c(r'''\n",
    "## Internal Trade\n",
    "\n",
    "- Many sovereign states and now, with additions, some insecure states\n",
    "- New agreements now allow for internal trade without licensing, but each sovereign state is \n",
    "liable to uphold UNSCR 1540\n",
    "- Cast as trade measures instead of national policy/security measures\n",
    "''')\n",
    "slides.c(r'''\n",
    "## External Trade\n",
    "\n",
    "- A country indicated under the CGEA can receive dual use items\n",
    "- A registered customer in an NGEA country can receive specified dual use goods\n",
    "- A registered customer in a GEA country can receive limited dual use goods\n",
    "- Other, ad hoc licenses have been granted %s\n",
    "''' % (slides._bib.pcite('Alavi2017')))\n",
    "slides.c(r'''\n",
    "- The EU provides an interesting case study for international versus internal trade agreements\n",
    "- Up to $10\\unit{\\%%}$ of EU trade is dual use goods\n",
    "- *Aime Richardt* case indicates why each sovereign state must be able to stop dual use export %s\n",
    "''' % (slides._bib.pcite('Alavi2017')))"
   ]
  },
  {
   "cell_type": "code",
   "execution_count": 26,
   "metadata": {
    "collapsed": false,
    "deletable": true,
    "editable": true
   },
   "outputs": [
    {
     "data": {
      "text/latex": [
       "\\twocolumnslide{\\begin{content} \\hypertarget{re-export}{%\n",
       "\\subsection{Re-export}\\label{re-export}}\n",
       "\n",
       "\\begin{itemize}\n",
       "\\tightlist\n",
       "\\item\n",
       "  Case Study: Asher Karni \\cite{Early2009}\n",
       "\n",
       "  \\begin{itemize}\n",
       "  \\tightlist\n",
       "  \\item\n",
       "    Attempted to buy triggered spark gaps (used in lithotripsy \\emph{or}\n",
       "    device assembly)\n",
       "  \\item\n",
       "    Supplier was PerkinElmer\n",
       "  \\item\n",
       "    Used a cover entity in Pakistan, South Africa, UAE, and the United\n",
       "    States\n",
       "  \\item\n",
       "    Was stopped when an anonymous tipster lead to a rejected license\n",
       "  \\end{itemize}\n",
       "\\end{itemize}\n",
       " \\end{content}}{\\begin{content} \\hypertarget{free-trade-zones}{%\n",
       "\\subsection{Free Trade Zones}\\label{free-trade-zones}}\n",
       "\n",
       "\\begin{itemize}\n",
       "\\tightlist\n",
       "\\item\n",
       "  Many countries offer Free Trade Zones, where tariffs and other\n",
       "  restrictions are lightened\n",
       "\\item\n",
       "  Ostensibly, these zones offer economic incentive for commercial\n",
       "  interests coming to that country\n",
       "\\item\n",
       "  UAE's Free Trade zones are particularly concerning, for their promised\n",
       "  ``confidentiality'' and their government's refusal to cooperate on\n",
       "  Asher Karni's prosecution\n",
       "\\end{itemize}\n",
       " \\end{content}}{Re-Export and Free Trade Zones}"
      ],
      "text/plain": [
       "<IPython.core.display.Latex object>"
      ]
     },
     "metadata": {},
     "output_type": "display_data"
    }
   ],
   "source": [
    "slides.twocolumn()\n",
    "slides.t('Re-Export and Free Trade Zones')\n",
    "slides.c(r'''\n",
    "## Re-export\n",
    "\n",
    "- Case Study: Asher Karni %s\n",
    "    - Attempted to buy triggered spark gaps (used in lithotripsy *or* device assembly)\n",
    "    - Supplier was PerkinElmer\n",
    "    - Used a cover entity in Pakistan, South Africa, UAE, and the United States\n",
    "    - Was stopped when an anonymous tipster lead to a rejected license\n",
    "''' % (slides._bib.pcite('Early2009')))\n",
    "slides.c(r'''\n",
    "## Free Trade Zones\n",
    "\n",
    "- Many countries offer Free Trade Zones, where tariffs and other restrictions are lightened\n",
    "- Ostensibly, these zones offer economic incentive for commercial interests coming to that\n",
    "country\n",
    "- UAE\\'s Free Trade zones are particularly concerning, for their promised \"confidentiality\"\n",
    "and their government\\'s refusal to cooperate on Asher Karni\\'s prosecution ''')"
   ]
  },
  {
   "cell_type": "code",
   "execution_count": 27,
   "metadata": {
    "collapsed": false,
    "deletable": true,
    "editable": true
   },
   "outputs": [
    {
     "data": {
      "text/latex": [
       "\\part{Conclusion}"
      ],
      "text/plain": [
       "<IPython.core.display.Latex object>"
      ]
     },
     "metadata": {},
     "output_type": "display_data"
    },
    {
     "data": {
      "text/latex": [
       "\\def\\nameofchapter{Conclusion}"
      ],
      "text/plain": [
       "<IPython.core.display.Latex object>"
      ]
     },
     "metadata": {},
     "output_type": "display_data"
    }
   ],
   "source": [
    "slides.part('Conclusion')\n",
    "slides.chapter('Conclusion')"
   ]
  },
  {
   "cell_type": "code",
   "execution_count": 28,
   "metadata": {
    "collapsed": false,
    "deletable": true,
    "editable": true
   },
   "outputs": [
    {
     "data": {
      "text/latex": [
       "\\onecolumnslide{\\begin{content} \\begin{itemize}\n",
       "\\tightlist\n",
       "\\item\n",
       "  Many attribute \\emph{The Long Peace} \\cite{Carlin2017} to the advent\n",
       "  of nuclear weapons, however the increasing number of nuclear weapons\n",
       "  states makes that peace more precarious\n",
       "\\item\n",
       "  Nonproliferation in general has a checkered history, with questionable\n",
       "  efficacy of any of its tenets\n",
       "\\item\n",
       "  Export control, proper intelligence, and licensing for dual use goods\n",
       "  are one arm of nonproliferation that can make a large impact\n",
       "\\item\n",
       "  There are some policy, implementation, and institutional issues within\n",
       "  the field of dual use export control that must be solved as soon as\n",
       "  possible\n",
       "\\end{itemize}\n",
       " \\end{content}}{Nonproliferation is an unsolved problem}"
      ],
      "text/plain": [
       "<IPython.core.display.Latex object>"
      ]
     },
     "metadata": {},
     "output_type": "display_data"
    }
   ],
   "source": [
    "slides.onecolumn()\n",
    "slides.t('Nonproliferation is an unsolved problem')\n",
    "slides.c(r'''\n",
    "- Many attribute *The Long Peace* %s to the advent of nuclear weapons, however the increasing\n",
    "number of nuclear weapons states makes that peace more precarious\n",
    "- Nonproliferation in general has a checkered history, with questionable efficacy of any of\n",
    "its tenets\n",
    "- Export control, proper intelligence, and licensing for dual use goods are one arm of\n",
    "nonproliferation that can make a large impact\n",
    "- There are some policy, implementation, and institutional issues within the field of dual use\n",
    "export control that must be solved as soon as possible\n",
    "''' % (slides._bib.pcite('Carlin2017')))"
   ]
  },
  {
   "cell_type": "code",
   "execution_count": 29,
   "metadata": {
    "collapsed": false,
    "deletable": true,
    "editable": true
   },
   "outputs": [
    {
     "data": {
      "text/latex": [
       "\\chapterslide{\\begin{content} Questions\n",
       " \\end{content}}{\\begin{content} \n",
       " \\end{content}}{Questions}"
      ],
      "text/plain": [
       "<IPython.core.display.Latex object>"
      ]
     },
     "metadata": {},
     "output_type": "display_data"
    }
   ],
   "source": [
    "slides.chapterslidetitle('Questions')\n",
    "slides.chapterslidesubtitle('')"
   ]
  },
  {
   "cell_type": "code",
   "execution_count": 30,
   "metadata": {
    "collapsed": false,
    "deletable": true,
    "editable": true
   },
   "outputs": [
    {
     "data": {
      "text/latex": [
       "\\bibliographystyle{unsrt} \\bibliography{/Users/ahagen/bibs/nonproliferation.bib}"
      ],
      "text/plain": [
       "<IPython.core.display.Latex object>"
      ]
     },
     "execution_count": 30,
     "metadata": {},
     "output_type": "execute_result"
    }
   ],
   "source": [
    "slides.bibliography()"
   ]
  },
  {
   "cell_type": "code",
   "execution_count": 31,
   "metadata": {
    "collapsed": false,
    "deletable": true,
    "editable": true
   },
   "outputs": [
    {
     "name": "stderr",
     "output_type": "stream",
     "text": [
      "/usr/local/lib/python2.7/site-packages/nbconvert/filters/datatypefilter.py:41: UserWarning: Your element with mimetype(s) [u'application/javascript'] is not able to be represented.\n",
      "  mimetypes=output.keys())\n",
      "/usr/local/lib/python2.7/site-packages/nbconvert/filters/datatypefilter.py:41: UserWarning: Your element with mimetype(s) [u'text/html'] is not able to be represented.\n",
      "  mimetypes=output.keys())\n"
     ]
    },
    {
     "data": {
      "text/html": [
       "<a href='./dual_use_export_controls.pdf' target='_blank'>./dual_use_export_controls.pdf</a><br>"
      ],
      "text/plain": [
       "/Users/ahagen/scholarship/duec/dual_use_export_controls.pdf"
      ]
     },
     "metadata": {},
     "output_type": "display_data"
    },
    {
     "data": {
      "text/html": [
       "<a href='./dual_use_export_controls.tex' target='_blank'>./dual_use_export_controls.tex</a><br>"
      ],
      "text/plain": [
       "/Users/ahagen/scholarship/duec/dual_use_export_controls.tex"
      ]
     },
     "metadata": {},
     "output_type": "display_data"
    }
   ],
   "source": [
    "slides.export('dual_use_export_controls')"
   ]
  }
 ],
 "metadata": {
  "hide_input": false,
  "kernelspec": {
   "display_name": "Python 2",
   "language": "python",
   "name": "python2"
  },
  "language_info": {
   "codemirror_mode": {
    "name": "ipython",
    "version": 2
   },
   "file_extension": ".py",
   "mimetype": "text/x-python",
   "name": "python",
   "nbconvert_exporter": "python",
   "pygments_lexer": "ipython2",
   "version": "2.7.14"
  },
  "latex_envs": {
   "LaTeX_envs_menu_present": true,
   "autocomplete": true,
   "bibliofile": "bibs/dissertation.bib",
   "cite_by": "apalike",
   "current_citInitial": 1,
   "eqLabelWithNumbers": true,
   "eqNumInitial": 1,
   "hotkeys": {
    "equation": "Ctrl-E",
    "itemize": "Ctrl-I"
   },
   "labels_anchors": false,
   "latex_user_defs": false,
   "report_style_numbering": false,
   "user_envs_cfg": false
  }
 },
 "nbformat": 4,
 "nbformat_minor": 2
}
