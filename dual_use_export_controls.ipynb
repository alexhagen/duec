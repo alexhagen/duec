{
 "cells": [
  {
   "cell_type": "code",
   "execution_count": 2,
   "metadata": {
    "collapsed": false,
    "deletable": true,
    "editable": true,
    "init_cell": true
   },
   "outputs": [],
   "source": [
    "import lyxithea.lyxithea as lyx\n",
    "import lyxithea.puslides as lyxs\n",
    "from pyg import twod as pyg2d\n",
    "from pyg.colors import pu as puc\n",
    "import numpy as np\n",
    "import bs4\n",
    "\n",
    "lyx.exporting(True)\n",
    "lyx.latex(True)\n",
    "\n",
    "pyg2d.context(\"slides\")\n",
    "bib = lyx.bib('bibs/nonproliferation.bib')\n",
    "slides = lyxs.puslides(bib)\n",
    "slides.chapter_paths(['~/scholarship/duec/'])\n",
    "slides.title('Nuclear Nonproliferation Export Controls and Dual Use: A Crash Course')\n",
    "slides.author('Alex Hagen')\n",
    "slides.subtitle('Internal Presentation')\n",
    "slides.affiliation('Purdue University')\n",
    "slides.venue('ANL\\'s CSS and Purdue University')\n",
    "slides.city('Lafayette, IN and Darien, IL')"
   ]
  },
  {
   "cell_type": "code",
   "execution_count": 3,
   "metadata": {
    "collapsed": false,
    "deletable": true,
    "editable": true
   },
   "outputs": [
    {
     "data": {
      "text/latex": [
       "\\part{Front Matter}"
      ],
      "text/plain": [
       "<IPython.core.display.Latex object>"
      ]
     },
     "metadata": {},
     "output_type": "display_data"
    },
    {
     "data": {
      "text/latex": [
       "\\def\\nameofchapter{Front Matter}"
      ],
      "text/plain": [
       "<IPython.core.display.Latex object>"
      ]
     },
     "metadata": {},
     "output_type": "display_data"
    }
   ],
   "source": [
    "slides.part('Front Matter')\n",
    "slides.chapter('Front Matter')"
   ]
  },
  {
   "cell_type": "code",
   "execution_count": 4,
   "metadata": {
    "collapsed": false,
    "deletable": true,
    "editable": true
   },
   "outputs": [
    {
     "data": {
      "text/latex": [
       "\\twocolumnslide{\\begin{content} \\centering\\tikz\\node[circle,draw,\n",
       "           text=white, inner sep=1.5cm,\n",
       "           path picture={\n",
       "               \\node at (path picture bounding box.center){\n",
       "                   \\includegraphics[width=4.5cm]{img/avatar.jpg}\n",
       "               };\n",
       "           }]{};\n",
       "\n",
       "\\raggedright\n",
       "\n",
       "\\hypertarget{education}{%\n",
       "\\subsection{Education}\\label{education}}\n",
       "\n",
       "PhDNE - Purdue University - Soon\n",
       "\n",
       "MSNE - Purdue University - August 2014\n",
       "\n",
       "BSNE - Purdue University - May 2012 \\vfill\n",
       " \\end{content}}{\\begin{content} \\hypertarget{research-experience}{%\n",
       "\\subsection{Research Experience}\\label{research-experience}}\n",
       "\n",
       "\\begin{itemize}\n",
       "\\tightlist\n",
       "\\item\n",
       "  MFRL\n",
       "\\item\n",
       "  Sagamore Adams\n",
       "\\item\n",
       "  Argonne National Laboratory\n",
       "\\end{itemize}\n",
       " \\end{content}}{Resume}"
      ],
      "text/plain": [
       "<IPython.core.display.Latex object>"
      ]
     },
     "metadata": {},
     "output_type": "display_data"
    }
   ],
   "source": [
    "# Objective slide\n",
    "slides.twocolumn()\n",
    "slides.t('Resume')\n",
    "slides.c(r'''\n",
    "\\centering\\tikz\\node[circle,draw,\n",
    "           text=white, inner sep=1.5cm,\n",
    "           path picture={\n",
    "               \\node at (path picture bounding box.center){\n",
    "                   \\includegraphics[width=4.5cm]{img/avatar.jpg}\n",
    "               };\n",
    "           }]{};\n",
    "\n",
    "\\raggedright\n",
    "## Education\n",
    "\n",
    "PhDNE - Purdue University - Soon\n",
    "\n",
    "MSNE - Purdue University - August 2014\n",
    "\n",
    "BSNE - Purdue University - May 2012\n",
    "\\vfill''')\n",
    "slides.c('''\n",
    "## Research Experience\n",
    "\n",
    "- MFRL\n",
    "- Sagamore Adams\n",
    "- Argonne National Laboratory\n",
    "\n",
    "''')"
   ]
  },
  {
   "cell_type": "code",
   "execution_count": 5,
   "metadata": {
    "collapsed": false,
    "deletable": true,
    "editable": true
   },
   "outputs": [
    {
     "data": {
      "text/latex": [
       "\\onecolumnslide{\\begin{content} \\Huge\\vfill\n",
       "\n",
       "\\begin{itemize}\n",
       "\\tightlist\n",
       "\\item\n",
       "  To motivate and describe export controls pertaining to dual use items\n",
       "  in nuclear nonproliferation \\vfill\n",
       "\\item\n",
       "  To illuminate issues in the modern nuclear dual use export controls\n",
       "  from a US-centric viewpoint \\vfill\n",
       "\\item\n",
       "  To describe differences and problem points between international and\n",
       "  state internal export controls \\vfill\n",
       "\\end{itemize}\n",
       " \\end{content}}{Objectives of this Presentation}"
      ],
      "text/plain": [
       "<IPython.core.display.Latex object>"
      ]
     },
     "metadata": {},
     "output_type": "display_data"
    }
   ],
   "source": [
    "# objectives\n",
    "slides.onecolumn()\n",
    "slides.t('Objectives of this Presentation')\n",
    "slides.c('''\\Huge\n",
    "\\\\vfill\n",
    "- To motivate and describe export controls pertaining to dual use items in nuclear nonproliferation\n",
    "\\\\vfill\n",
    "- To illuminate issues in the modern nuclear dual use export controls from a US-centric viewpoint\n",
    "\\\\vfill\n",
    "- To describe differences and problem points between international and state internal export controls\n",
    "\\\\vfill\n",
    "''')"
   ]
  },
  {
   "cell_type": "code",
   "execution_count": 6,
   "metadata": {
    "collapsed": false,
    "deletable": true,
    "editable": true
   },
   "outputs": [
    {
     "data": {
      "text/latex": [
       "\\onecolumnslide{\\begin{content} \\vfill\\bibentry{OTA1993}\\vfill\\bibentry{OTA1994}\\vfill\\bibentry{Crail2006}\\vfill\\bibentry{Stinnett2011}\\vfill\\bibentry{Harris2017}\\vfill\\bibentry{Alavi2017}\\vfill\n",
       " \\end{content}}{Sourcebook}"
      ],
      "text/plain": [
       "<IPython.core.display.Latex object>"
      ]
     },
     "metadata": {},
     "output_type": "display_data"
    }
   ],
   "source": [
    "slides.onecolumn()\n",
    "slides.t('Sourcebook')\n",
    "slides.c(\"\"\"\n",
    "\\\\vfill\n",
    "%s\n",
    "\\\\vfill\n",
    "%s\n",
    "\\\\vfill\n",
    "%s\n",
    "\\\\vfill\n",
    "%s\n",
    "\\\\vfill\n",
    "%s\n",
    "\\\\vfill\n",
    "%s\n",
    "\\\\vfill\"\"\" % (slides._bib.fullcite('OTA1993'),\n",
    "                      slides._bib.fullcite('OTA1994'),\n",
    "                      slides._bib.fullcite('Crail2006'),\n",
    "                      slides._bib.fullcite('Stinnett2011'),\n",
    "                      slides._bib.fullcite('Harris2017'),\n",
    "                      slides._bib.fullcite('Alavi2017'),\n",
    "                      ))"
   ]
  },
  {
   "cell_type": "code",
   "execution_count": 7,
   "metadata": {
    "collapsed": false,
    "deletable": true,
    "editable": true
   },
   "outputs": [
    {
     "data": {
      "text/latex": [
       "\\part{Introduction}"
      ],
      "text/plain": [
       "<IPython.core.display.Latex object>"
      ]
     },
     "metadata": {},
     "output_type": "display_data"
    },
    {
     "data": {
      "text/latex": [
       "\\def\\nameofchapter{Motivation}"
      ],
      "text/plain": [
       "<IPython.core.display.Latex object>"
      ]
     },
     "metadata": {},
     "output_type": "display_data"
    }
   ],
   "source": [
    "slides.part('Introduction')\n",
    "slides.chapter('Motivation')"
   ]
  },
  {
   "cell_type": "code",
   "execution_count": 8,
   "metadata": {
    "collapsed": false,
    "deletable": true,
    "editable": true
   },
   "outputs": [
    {
     "data": {
      "text/latex": [
       "\\tworowleftsidebar{\\begin{content} Proliferation or supply of any weapons system that enhances a nation's\n",
       "capacity to wage war is a danger to all human kind.\n",
       " \\end{content}}{\\begin{content} \\hypertarget{some-section}{%\n",
       "\\subsection{Some section}\\label{some-section}}\n",
       "\n",
       "\\begin{itemize}\n",
       "\\tightlist\n",
       "\\item\n",
       "  Hi\n",
       "\\end{itemize}\n",
       " \\end{content}}{\\begin{content} \n",
       " \\end{content}}{Proliferation}"
      ],
      "text/plain": [
       "<IPython.core.display.Latex object>"
      ]
     },
     "metadata": {},
     "output_type": "display_data"
    }
   ],
   "source": [
    "slides.tworowleftsidebar()\n",
    "slides.t('Proliferation')\n",
    "slides.c(r'''Proliferation or supply of any weapons system that enhances a nation\\'s capacity to wage war is a danger to all human kind.''')\n",
    "slides.c(r'''\n",
    "## Some section\n",
    "\n",
    "- Hi''')\n",
    "slides.c(r'''''')"
   ]
  },
  {
   "cell_type": "code",
   "execution_count": 9,
   "metadata": {
    "collapsed": false,
    "deletable": true,
    "editable": true
   },
   "outputs": [
    {
     "data": {
      "text/latex": [
       "\\tworowrightsidebar{\\begin{content} \\hypertarget{modern-state-enemies}{%\n",
       "\\subsection{Modern State Enemies}\\label{modern-state-enemies}}\n",
       "\n",
       "\\begin{itemize}\n",
       "\\tightlist\n",
       "\\item\n",
       "  The top three of Matthew Bunn's nuclear issues facing the new\n",
       "  president are nuclear nonproliferation failure stories \\cite{Bunn2016}\n",
       "\n",
       "  \\begin{itemize}\n",
       "  \\tightlist\n",
       "  \\item\n",
       "    North Korea\n",
       "  \\item\n",
       "    Iran\n",
       "  \\item\n",
       "    An ``Unknown'' nuclear opponent\n",
       "  \\end{itemize}\n",
       "\\end{itemize}\n",
       " \\end{content}}{\\begin{content} \\hypertarget{nuclear-terrorism}{%\n",
       "\\subsection{Nuclear Terrorism}\\label{nuclear-terrorism}}\n",
       "\n",
       "\\begin{itemize}\n",
       "\\tightlist\n",
       "\\item\n",
       "  Nuclear Terrorism is one of this century's grand challenges\n",
       "  \\cite{Engineering2012}\n",
       "\\item\n",
       "  The UN passed Council Resolution 1540 to specifically and universally\n",
       "  enact preventative measures from non-state actors attaining nuclear\n",
       "  weapons of mass destruction \\cite{Crail2006}\n",
       "\\end{itemize}\n",
       " \\end{content}}{\\begin{content} \\hypertarget{balance}{%\n",
       "\\subsection{Balance}\\label{balance}}\n",
       "\n",
       "\\begin{itemize}\n",
       "\\tightlist\n",
       "\\item\n",
       "  Global trade is larger than ever before, and any limiting factor will\n",
       "  be increasingly resisted\n",
       "\\item\n",
       "  The comparative technology complexity difference between everyday life\n",
       "  and that required to make nuclear weapons is ever decreasing\n",
       "\\end{itemize}\n",
       " \\end{content}}{Modern Nuclear Dangers}"
      ],
      "text/plain": [
       "<IPython.core.display.Latex object>"
      ]
     },
     "metadata": {},
     "output_type": "display_data"
    }
   ],
   "source": [
    "slides.tworowrightsidebar()\n",
    "slides.t('Modern Nuclear Dangers')\n",
    "slides.c(r'''\n",
    "## Modern State Enemies\n",
    "\n",
    "- The top three of Matthew Bunn's nuclear issues facing the new president are nuclear nonproliferation failure stories %s\n",
    "    - North Korea\n",
    "    - Iran\n",
    "    - An \"Unknown\" nuclear opponent\n",
    "''' % slides._bib.pcite('Bunn2016'))\n",
    "slides.c(r'''\n",
    "## Nuclear Terrorism\n",
    "\n",
    "- Nuclear Terrorism is one of this century's grand challenges %s\n",
    "- The UN passed Council Resolution 1540 to specifically and universally enact preventative measures from non-state actors attaining nuclear weapons of mass destruction %s\n",
    "''' % (slides._bib.pcite('Engineering2012'), slides._bib.pcite('Crail2006')))\n",
    "slides.c(r'''\n",
    "## Balance\n",
    "\n",
    "- Global trade is larger than ever before, and any limiting factor will be increasingly resisted\n",
    "- The comparative technology complexity difference between everyday life and that required to make nuclear weapons is ever decreasing\n",
    "''')"
   ]
  },
  {
   "cell_type": "code",
   "execution_count": 10,
   "metadata": {
    "collapsed": false,
    "deletable": true,
    "editable": true
   },
   "outputs": [
    {
     "data": {
      "text/latex": [
       "\\def\\nameofchapter{Nonproliferation and Export Controls}"
      ],
      "text/plain": [
       "<IPython.core.display.Latex object>"
      ]
     },
     "metadata": {},
     "output_type": "display_data"
    }
   ],
   "source": [
    "slides.chapter('Nonproliferation and Export Controls')"
   ]
  },
  {
   "cell_type": "code",
   "execution_count": 11,
   "metadata": {
    "collapsed": false,
    "deletable": true,
    "editable": true
   },
   "outputs": [
    {
     "data": {
      "text/latex": [
       "\\onecolumnslide{\\begin{content} \\begin{itemize}\n",
       "\\tightlist\n",
       "\\item\n",
       "  WMD Nonproliferation\n",
       "\n",
       "  \\begin{itemize}\n",
       "  \\tightlist\n",
       "  \\item\n",
       "    Policy\n",
       "  \\item\n",
       "    Deterrance\n",
       "  \\item\n",
       "    Decommissioning\n",
       "  \\item\n",
       "    Safeguards\n",
       "  \\item\n",
       "    Export Controls\n",
       "\n",
       "    \\begin{itemize}\n",
       "    \\tightlist\n",
       "    \\item\n",
       "      SNM Controls\n",
       "\n",
       "      \\begin{itemize}\n",
       "      \\tightlist\n",
       "      \\item\n",
       "        Safeguarding\n",
       "      \\item\n",
       "        Tracking\n",
       "      \\item\n",
       "        \\textbf{Interdiction}\n",
       "      \\end{itemize}\n",
       "    \\item\n",
       "      \\textbf{Dual Use Material Controls}\n",
       "\n",
       "      \\begin{itemize}\n",
       "      \\tightlist\n",
       "      \\item\n",
       "        Licensing\n",
       "      \\item\n",
       "        Listing\n",
       "      \\item\n",
       "        Intelligence\n",
       "      \\end{itemize}\n",
       "    \\end{itemize}\n",
       "  \\end{itemize}\n",
       "\\end{itemize}\n",
       " \\end{content}}{Nonproliferation - A hierarchical view}"
      ],
      "text/plain": [
       "<IPython.core.display.Latex object>"
      ]
     },
     "metadata": {},
     "output_type": "display_data"
    }
   ],
   "source": [
    "slides.onecolumn()\n",
    "slides.slidetitle('Nonproliferation - A hierarchical view')\n",
    "slides.slidecontent('''\n",
    "- WMD Nonproliferation\n",
    "    - Policy\n",
    "    - Deterrance\n",
    "    - Decommissioning\n",
    "    - Safeguards\n",
    "    - Export Controls\n",
    "        - SNM Controls\n",
    "            - Safeguarding\n",
    "            - Tracking\n",
    "            - **Interdiction**\n",
    "        - **Dual Use Material Controls**\n",
    "            - Licensing\n",
    "            - Listing\n",
    "            - Intelligence''')"
   ]
  },
  {
   "cell_type": "code",
   "execution_count": 12,
   "metadata": {
    "collapsed": false,
    "deletable": true,
    "editable": true
   },
   "outputs": [
    {
     "data": {
      "text/latex": [
       "\\twocolumnshiftright{\\begin{content} \n",
       "\t\t\t\t\\begin{figure}\n",
       "\t\t\t\t\t\\centering\n",
       "\t\t\t\t\t\\input{img/dualuse.pgf}\n",
       "\t\t\t\t\t\\caption{Schematic representation of research, development, and assembly of a nuclear weapon\\label{fig:}}\n",
       "\t\t\t\t\\end{figure} \\end{content}}{\\begin{content} \\begin{itemize}\n",
       "\\tightlist\n",
       "\\item\n",
       "  Dual Use Items include \\cite{OTA1993}\n",
       "\n",
       "  \\begin{itemize}\n",
       "  \\tightlist\n",
       "  \\item\n",
       "    A Nuclear Reactor\n",
       "  \\item\n",
       "    Neutron Generators\n",
       "  \\item\n",
       "    Lowly Enriched Uranium\n",
       "  \\item\n",
       "    High Explosives\n",
       "  \\item\n",
       "    Explosive shaping isostatic presses\n",
       "  \\item\n",
       "    Maraging Steel\n",
       "  \\item\n",
       "    High Precision CNC Lathes\n",
       "  \\item\n",
       "    Beryllium*, Hafnium, Zirconium\n",
       "  \\item\n",
       "    Valves\n",
       "  \\item\n",
       "    Lasers\n",
       "  \\item\n",
       "    Supercomputers\n",
       "  \\end{itemize}\n",
       "\\end{itemize}\n",
       " \\end{content}}{Dual Use}"
      ],
      "text/plain": [
       "<IPython.core.display.Latex object>"
      ]
     },
     "metadata": {},
     "output_type": "display_data"
    }
   ],
   "source": [
    "from matplotlib.sankey import Sankey\n",
    "slides.twocolumnshiftright()\n",
    "slides.t('Dual Use')\n",
    "plot = pyg2d.pyg2d()\n",
    "plot.xticks([], [])\n",
    "plot.yticks([], [])\n",
    "sankey = Sankey(ax=plot.ax, head_angle=90)\n",
    "sankey.add(flows=[0.60, 0.20, 0.20], label='Fissile Material',\n",
    "           orientations=[-1, 1, 0])\n",
    "sankey.add(flows=[-0.25, 0.15, 0.1], label='Device Assembly',\n",
    "           orientations=[-1, -1, -1])\n",
    "sankey.add(flows=[-0.25, 0.15, 0.1], label='Delivery System',\n",
    "           orientations=[-1, -1, -1])\n",
    "diagrams = sankey.finish()\n",
    "diagrams[0].texts[-1].set_color('r')\n",
    "diagrams[0].text.set_fontweight('bold')\n",
    "slides.c(plot, filename='img/dualuse', caption='Schematic representation of research, development, and assembly of a nuclear weapon', label='')\n",
    "slides.c('''\n",
    "- Dual Use Items include %s\n",
    "    - A Nuclear Reactor\n",
    "    - Neutron Generators\n",
    "    - Lowly Enriched Uranium\n",
    "    - High Explosives\n",
    "    - Explosive shaping isostatic presses\n",
    "    - Maraging Steel\n",
    "    - High Precision CNC Lathes\n",
    "    - Beryllium*, Hafnium, Zirconium\n",
    "    - Valves\n",
    "    - Lasers\n",
    "    - Supercomputers''' % slides._bib.pcite('OTA1993'))"
   ]
  },
  {
   "cell_type": "code",
   "execution_count": 13,
   "metadata": {
    "collapsed": false,
    "deletable": true,
    "editable": true
   },
   "outputs": [
    {
     "data": {
      "text/latex": [
       "\\onecolumnslide{\\begin{content} \n",
       "\t\t\t\\begin{figure}\n",
       "\t\t\t\t\\centering\n",
       "\t\t\t\t\\includegraphics[width=7.05in]{/Users/ahagen/scholarship/duec/img/heu.pdf}\n",
       "\t\t\t\t\\caption{Map of HEU stockpiles and processing plants\\label{fig:Map of HEU stockpiles and processing plants}}\n",
       "\t\t\t\\end{figure} \\end{content}}{Proliferation - A Global Issue}"
      ],
      "text/plain": [
       "<IPython.core.display.Latex object>"
      ]
     },
     "metadata": {},
     "output_type": "display_data"
    }
   ],
   "source": [
    "slides.onecolumn()\n",
    "slides.t('Proliferation - A Global Issue')\n",
    "slides.c(pyg2d.svg('img/heu.pdf'), caption='Map of HEU stockpiles and processing plants')"
   ]
  },
  {
   "cell_type": "code",
   "execution_count": 14,
   "metadata": {
    "collapsed": false,
    "deletable": true,
    "editable": true
   },
   "outputs": [
    {
     "data": {
      "text/latex": [
       "\\def\\nameofchapter{Failures of Nonproliferation}"
      ],
      "text/plain": [
       "<IPython.core.display.Latex object>"
      ]
     },
     "metadata": {},
     "output_type": "display_data"
    }
   ],
   "source": [
    "slides.chapter('Failures of Nonproliferation')"
   ]
  },
  {
   "cell_type": "code",
   "execution_count": 15,
   "metadata": {
    "collapsed": false,
    "deletable": true,
    "editable": true
   },
   "outputs": [
    {
     "data": {
      "text/latex": [
       "\\tworowpushup{\\begin{content} \\begin{itemize}\n",
       "\\tightlist\n",
       "\\item\n",
       "  Six countries attained warheads before the NPT (1968)\n",
       "\\item\n",
       "  Four attained warheads after the NPT, only one (South Africa) no\n",
       "  longer has them\n",
       "\\item\n",
       "  Three attained warheads because of the fall of the U.S.S.R. and\n",
       "  subsequently returned them \\cite{Norris2010}\n",
       "\\end{itemize}\n",
       " \\end{content}}{\\begin{content} \n",
       "\t\t\t\t\\begin{figure}\n",
       "\t\t\t\t\t\\centering\n",
       "\t\t\t\t\t\\input{stockpiles.pgf}\n",
       "\t\t\t\t\t\\caption{Logarithmic (per country) count of warheads per country throughout time with some important events indicated \\cite{Norris2010}\\label{fig:somelabel}}\n",
       "\t\t\t\t\\end{figure} \\end{content}}{Timeline of Proliferation}"
      ],
      "text/plain": [
       "<IPython.core.display.Latex object>"
      ]
     },
     "metadata": {},
     "output_type": "display_data"
    }
   ],
   "source": [
    "from pyg.colors import pu as puc\n",
    "slides.tworowpushup()\n",
    "slides.t('Timeline of Proliferation')\n",
    "\n",
    "with open('stockpiles.html', 'r') as f:\n",
    "    string = f.read()\n",
    "\n",
    "\n",
    "bs = bs4.BeautifulSoup(string, 'lxml')\n",
    "\n",
    "#print bs\n",
    "results = {}\n",
    "for row in bs.findAll('tr'):\n",
    "    aux = row.findAll('td')\n",
    "    _row = []\n",
    "    for cell in aux[1:-1]:\n",
    "        _row.extend([float(cell.string)])\n",
    "    results[aux[0].string] = _row\n",
    "\n",
    "years = results['Country']\n",
    "del results['Country']\n",
    "plot = pyg2d.pyg2d()\n",
    "stockpiles = []\n",
    "order = ['United States', 'Russia', 'United Kingdom', 'France', 'China', 'Israel', 'India', 'South Africa', 'Pakistan', 'North Korea', 'Kazakhstan', 'Ukraine', 'Belarus']\n",
    "for key in order:\n",
    "    row = []\n",
    "    for value in results[key]:\n",
    "        if value > 0.0:\n",
    "            value = np.log10(value)\n",
    "        row.extend([value])\n",
    "    stockpiles.extend([row])\n",
    "\n",
    "pucols = puc.pu_colors.copy()\n",
    "del pucols['teal']\n",
    "del pucols['black']\n",
    "del pucols['white']\n",
    "del pucols['brown']\n",
    "del pucols['gray']\n",
    "del pucols['lightgray']\n",
    "del pucols['lightlightgray']\n",
    "colors = [puc.pu_colors['newgold'], puc.pu_colors['gray'], puc.pu_colors['teal'], puc.pu_colors['purple'],\n",
    "          puc.pu_colors['oldgold'], puc.pu_colors['red'], puc.pu_colors['blue'], puc.pu_colors['orange'],\n",
    "          puc.pu_colors['green']] + pucols.values()\n",
    "plot.stackplot(years, stockpiles, labels=order, colors=colors)\n",
    "plot.add_vline(1968, ymax=40., color=puc.pu_colors['gray'], ls='--')\n",
    "plot.add_text(1968-1, 35, 'NPT passed', rotation=90)\n",
    "plot.add_vline(1991, ymax=40., color=puc.pu_colors['gray'], ls='--')\n",
    "plot.add_text(1991-1, 35, 'USSR dissolves', rotation=90)\n",
    "plot.add_vline(2004, ymax=40., color=puc.pu_colors['gray'], ls='--')\n",
    "plot.add_text(2004-1, 35, 'UNCR1540 passed', rotation=90)\n",
    "plot.legend(loc=2)\n",
    "plot.ylim(0, 40)\n",
    "plot.xlabel(r'Time ($t$) [$\\unit{Year}$]')\n",
    "plot.ylabel(r'Logarithm of warheads per country ($\\log\\left(y\\right)$) [ ]')\n",
    "slides.c(r'''\n",
    "- Six countries attained warheads before the NPT (1968)\n",
    "- Four attained warheads after the NPT, only one (South Africa) no longer has them\n",
    "- Three attained warheads because of the fall of the U.S.S.R. and subsequently returned them %s''' % slides._bib.pcite('Norris2010'))\n",
    "slides.c(plot, filename='stockpiles', caption='Logarithmic (per country) count of warheads per country throughout time with some important events indicated %s' % slides._bib.pcite('Norris2010'),\n",
    "         label='somelabel')\n"
   ]
  },
  {
   "cell_type": "code",
   "execution_count": 16,
   "metadata": {
    "collapsed": false,
    "deletable": true,
    "editable": true
   },
   "outputs": [
    {
     "data": {
      "text/latex": [
       "\\tworowpushup{\\begin{content} \\begin{itemize}\n",
       "\\tightlist\n",
       "\\item\n",
       "  A.Q.Khan's proliferation network almost single handedly proliferated\n",
       "  nuclear weapons to many states and some non-state actors\n",
       "\\item\n",
       "  Showed ability of non nuclear states to still develop technology\n",
       "  without the expertise to perform export controls \\cite{Albright2005}\n",
       "\\end{itemize}\n",
       " \\end{content}}{\\begin{content} \n",
       "\t\t\t\\begin{figure}\n",
       "\t\t\t\t\\centering\n",
       "\t\t\t\t\\includegraphics[width=4.98in]{/Users/ahagen/scholarship/duec/img/khan.pdf}\n",
       "\t\t\t\t\\caption{Map of A.Q. Khan's Influence\\label{fig:Map of A.Q. Khan's Influence}}\n",
       "\t\t\t\\end{figure} \\end{content}}{A.Q. Khan's Proliferation Network}"
      ],
      "text/plain": [
       "<IPython.core.display.Latex object>"
      ]
     },
     "metadata": {},
     "output_type": "display_data"
    }
   ],
   "source": [
    "slides.tworowpushup()\n",
    "slides.t('A.Q. Khan\\'s Proliferation Network')\n",
    "slides.c(r'''- A.Q.Khan's proliferation network almost single handedly proliferated nuclear weapons to many states and some non-state actors\n",
    "- Showed ability of non nuclear states to still develop technology without the expertise to perform export controls %s''' % slides._bib.pcite('Albright2005'))\n",
    "slides.c(pyg2d.svg('img/khan.pdf'), caption='Map of A.Q. Khan\\'s Influence' )"
   ]
  },
  {
   "cell_type": "code",
   "execution_count": 17,
   "metadata": {
    "collapsed": false,
    "deletable": true,
    "editable": true
   },
   "outputs": [
    {
     "data": {
      "text/latex": [
       "\\part{Issues}"
      ],
      "text/plain": [
       "<IPython.core.display.Latex object>"
      ]
     },
     "metadata": {},
     "output_type": "display_data"
    },
    {
     "data": {
      "text/latex": [
       "\\def\\nameofchapter{Problems with Current Export Controls}"
      ],
      "text/plain": [
       "<IPython.core.display.Latex object>"
      ]
     },
     "metadata": {},
     "output_type": "display_data"
    }
   ],
   "source": [
    "slides.part('Issues')\n",
    "slides.chapter('Problems with Current Export Controls')"
   ]
  },
  {
   "cell_type": "code",
   "execution_count": 18,
   "metadata": {
    "collapsed": false,
    "deletable": true,
    "editable": true
   },
   "outputs": [
    {
     "data": {
      "text/latex": [
       "\\twocolumnslide{\\begin{content} \n",
       " \\end{content}}{\\begin{content} \n",
       " \\end{content}}{Arsenal versus Bomb}"
      ],
      "text/plain": [
       "<IPython.core.display.Latex object>"
      ]
     },
     "metadata": {},
     "output_type": "display_data"
    },
    {
     "data": {
      "text/plain": [
       "'\\nArsenal would require reprocessing equipment, bomb would require only gun type (tamper, accelerant, and fissile material) Russian uncertainty of fissile material is huge [InternationalPanelonFissileMaterials2015].\\n'"
      ]
     },
     "execution_count": 18,
     "metadata": {},
     "output_type": "execute_result"
    }
   ],
   "source": [
    "slides.twocolumn()\n",
    "slides.t('Arsenal versus Bomb')\n",
    "slides.c('')\n",
    "slides.c('')\n",
    "\n",
    "\"\"\"\n",
    "Arsenal would require reprocessing equipment, bomb would require only gun type (tamper, accelerant, and fissile material) Russian uncertainty of fissile material is huge [InternationalPanelonFissileMaterials2015].\n",
    "\"\"\""
   ]
  },
  {
   "cell_type": "code",
   "execution_count": 19,
   "metadata": {
    "collapsed": false,
    "deletable": true,
    "editable": true
   },
   "outputs": [
    {
     "data": {
      "text/latex": [
       "\\onecolumnslide{\\begin{content} \n",
       " \\end{content}}{The Weakest Link}"
      ],
      "text/plain": [
       "<IPython.core.display.Latex object>"
      ]
     },
     "metadata": {},
     "output_type": "display_data"
    },
    {
     "data": {
      "text/plain": [
       "\"\\n3d plot of the nonproliferation regimes from Crain's article.\\nReexport and dense supplier schemes could create a situation where a proliferant uses the least secure nuclear supplier state to obtain the correct material or dual use items [Early2009, Albright2005]\\n\""
      ]
     },
     "execution_count": 19,
     "metadata": {},
     "output_type": "execute_result"
    }
   ],
   "source": [
    "slides.slidetype()\n",
    "slides.t('The Weakest Link')\n",
    "slides.c('''''')\n",
    "\"\"\"\n",
    "3d plot of the nonproliferation regimes from Crain's article.\n",
    "Reexport and dense supplier schemes could create a situation where a proliferant uses the least secure nuclear supplier state to obtain the correct material or dual use items [Early2009, Albright2005]\n",
    "\"\"\""
   ]
  },
  {
   "cell_type": "code",
   "execution_count": 20,
   "metadata": {
    "collapsed": false,
    "deletable": true,
    "editable": true
   },
   "outputs": [
    {
     "data": {
      "text/latex": [
       "\\onecolumnslide{\\begin{content} \n",
       " \\end{content}}{Common Use}"
      ],
      "text/plain": [
       "<IPython.core.display.Latex object>"
      ]
     },
     "metadata": {},
     "output_type": "display_data"
    },
    {
     "data": {
      "text/plain": [
       "'\\nCommon use items must be allowed to be traded: for example computers [Sanger1999, OTA1993].  MCNP citation numbers - 100s per year of citations from illegal MCNP [Basaglia2017].\\n'"
      ]
     },
     "execution_count": 20,
     "metadata": {},
     "output_type": "execute_result"
    }
   ],
   "source": [
    "slides.slidetype()\n",
    "slides.t('Common Use')\n",
    "slides.c('')\n",
    "\"\"\"\n",
    "Common use items must be allowed to be traded: for example computers [Sanger1999, OTA1993].  MCNP citation numbers - 100s per year of citations from illegal MCNP [Basaglia2017].\n",
    "\"\"\""
   ]
  },
  {
   "cell_type": "code",
   "execution_count": 21,
   "metadata": {
    "collapsed": false,
    "deletable": true,
    "editable": true
   },
   "outputs": [
    {
     "data": {
      "text/latex": [
       "\\onecolumnslide{\\begin{content} \n",
       " \\end{content}}{(C)overt}"
      ],
      "text/plain": [
       "<IPython.core.display.Latex object>"
      ]
     },
     "metadata": {},
     "output_type": "display_data"
    },
    {
     "data": {
      "text/plain": [
       "'\\nOvert proliferation attempts have not been thwarted in the history of man.  Covert proliferation attempts have only been thwarted after military intervention in the case of Iraq. []  Covert diversion of nuclear material requires interdiction and is currently likely undetectable. [ITDB2016] Interdiction of dual use items is much harder as they use common materials.\\n'"
      ]
     },
     "execution_count": 21,
     "metadata": {},
     "output_type": "execute_result"
    }
   ],
   "source": [
    "slides.slidetype()\n",
    "slides.t('(C)overt')\n",
    "slides.c('')\n",
    "\"\"\"\n",
    "Overt proliferation attempts have not been thwarted in the history of man.  Covert proliferation attempts have only been thwarted after military intervention in the case of Iraq. []  Covert diversion of nuclear material requires interdiction and is currently likely undetectable. [ITDB2016] Interdiction of dual use items is much harder as they use common materials.\n",
    "\"\"\""
   ]
  },
  {
   "cell_type": "code",
   "execution_count": 22,
   "metadata": {
    "collapsed": false,
    "deletable": true,
    "editable": true
   },
   "outputs": [
    {
     "data": {
      "text/latex": [
       "\\onecolumnslide{\\begin{content} \n",
       " \\end{content}}{Factor of Safety}"
      ],
      "text/plain": [
       "<IPython.core.display.Latex object>"
      ]
     },
     "metadata": {},
     "output_type": "display_data"
    },
    {
     "data": {
      "text/plain": [
       "'\\nMany dual use commodities are called out by their precision, such as CNC machines, etc.  These precision, while probably overseen by engineers, likely do not take into account a factor of safety.  A determined proliferant could understand this and be willing to put up with the economic and safety losses possible from this. [OTA1993]\\n'"
      ]
     },
     "execution_count": 22,
     "metadata": {},
     "output_type": "execute_result"
    }
   ],
   "source": [
    "slides.slidetype()\n",
    "slides.t('Factor of Safety')\n",
    "slides.c('')\n",
    "\"\"\"\n",
    "Many dual use commodities are called out by their precision, such as CNC machines, etc.  These precision, while probably overseen by engineers, likely do not take into account a factor of safety.  A determined proliferant could understand this and be willing to put up with the economic and safety losses possible from this. [OTA1993]\n",
    "\"\"\""
   ]
  },
  {
   "cell_type": "code",
   "execution_count": 23,
   "metadata": {
    "collapsed": false,
    "deletable": true,
    "editable": true
   },
   "outputs": [
    {
     "data": {
      "text/latex": [
       "\\part{Comparison}"
      ],
      "text/plain": [
       "<IPython.core.display.Latex object>"
      ]
     },
     "metadata": {},
     "output_type": "display_data"
    },
    {
     "data": {
      "text/latex": [
       "\\def\\nameofchapter{International and State Export Control Comparison}"
      ],
      "text/plain": [
       "<IPython.core.display.Latex object>"
      ]
     },
     "metadata": {},
     "output_type": "display_data"
    }
   ],
   "source": [
    "slides.part('Comparison')\n",
    "slides.chapter('International and State Export Control Comparison')"
   ]
  },
  {
   "cell_type": "code",
   "execution_count": 24,
   "metadata": {
    "collapsed": false,
    "deletable": true,
    "editable": true
   },
   "outputs": [
    {
     "data": {
      "text/latex": [
       "\\onecolumnslide{\\begin{content} \n",
       " \\end{content}}{Legislation versus Capacity}"
      ],
      "text/plain": [
       "<IPython.core.display.Latex object>"
      ]
     },
     "metadata": {},
     "output_type": "display_data"
    },
    {
     "data": {
      "text/plain": [
       "'\\nThat one article showed that while many states have the correct policies on the books (in fact, I bet a lexographic analysis would show that most of the ink spilled has been in developing policy for nuclear nonproliferation), the capacity to carry these out is incredibly difficult.  The US budget for border controls and export tarrifs and ITAR is huge. Turkey and South Africa have a particularly difficult time. Use numbers from [Crail2006]\\n'"
      ]
     },
     "execution_count": 24,
     "metadata": {},
     "output_type": "execute_result"
    }
   ],
   "source": [
    "slides.slidetype()\n",
    "slides.t('Legislation versus Capacity')\n",
    "slides.c('')\n",
    "'''\n",
    "That one article showed that while many states have the correct policies on the books (in fact, I bet a lexographic analysis would show that most of the ink spilled has been in developing policy for nuclear nonproliferation), the capacity to carry these out is incredibly difficult.  The US budget for border controls and export tarrifs and ITAR is huge. Turkey and South Africa have a particularly difficult time. Use numbers from [Crail2006]\n",
    "'''"
   ]
  },
  {
   "cell_type": "code",
   "execution_count": 25,
   "metadata": {
    "collapsed": false,
    "deletable": true,
    "editable": true
   },
   "outputs": [
    {
     "data": {
      "text/latex": [
       "\\onecolumnslide{\\begin{content} \n",
       " \\end{content}}{Regulation versus Deregulation}"
      ],
      "text/plain": [
       "<IPython.core.display.Latex object>"
      ]
     },
     "metadata": {},
     "output_type": "display_data"
    },
    {
     "data": {
      "text/plain": [
       "\"\\nWhile the NPT explicitly states that any benefit from Nuclear Weapons technology should be freely distributed to all states, export controls are in fact enforced **prejudicedly** [UnitedNations1968].  The selling of high tech items that cost large amounts of money to a country and its commercial interests is necessary or the high tech won't happen - government spending on research is going down compared to private. [CITE]\\n\""
      ]
     },
     "execution_count": 25,
     "metadata": {},
     "output_type": "execute_result"
    }
   ],
   "source": [
    "slides.slidetype()\n",
    "slides.t('Regulation versus Deregulation')\n",
    "slides.c('')\n",
    "'''\n",
    "While the NPT explicitly states that any benefit from Nuclear Weapons technology should be freely distributed to all states, export controls are in fact enforced **prejudicedly** [UnitedNations1968].  The selling of high tech items that cost large amounts of money to a country and its commercial interests is necessary or the high tech won't happen - government spending on research is going down compared to private. [CITE]\n",
    "'''"
   ]
  },
  {
   "cell_type": "code",
   "execution_count": 26,
   "metadata": {
    "collapsed": false,
    "deletable": true,
    "editable": true
   },
   "outputs": [
    {
     "data": {
      "text/latex": [
       "\\onecolumnslide{\\begin{content} \n",
       " \\end{content}}{Convoluted Regulations}"
      ],
      "text/plain": [
       "<IPython.core.display.Latex object>"
      ]
     },
     "metadata": {},
     "output_type": "display_data"
    },
    {
     "data": {
      "text/plain": [
       "'\\nThe US has been criticized for having \"convoluted and overlapping regulations\".  This can be a detriment to our trade (but not to our nuclear security). [Alavi2017]  However, convoluted regulations, if supported by a trained staff, could allow for entities to reach out and contact the staff, which is a best case scenario.\\n\\ny, the law-maker has adopted numerous regulations that paid little attention to the distinction between low-tech and widely available items and advanced proprietary technologies, which led to the creation of a system of export controls characterised as \\xe2\\x80\\x98fundamentally broken\\xe2\\x80\\x9957\\nas well as \\xe2\\x80\\x98too rigorous, insufficiently rigorous,\\ncumbersome, obsolete, inefficient, or any combination of these\\xe2\\x80\\x99.58\\n'"
      ]
     },
     "execution_count": 26,
     "metadata": {},
     "output_type": "execute_result"
    }
   ],
   "source": [
    "slides.slidetype()\n",
    "slides.t('Convoluted Regulations')\n",
    "slides.c('')\n",
    "\"\"\"\n",
    "The US has been criticized for having \"convoluted and overlapping regulations\".  This can be a detriment to our trade (but not to our nuclear security). [Alavi2017]  However, convoluted regulations, if supported by a trained staff, could allow for entities to reach out and contact the staff, which is a best case scenario.\n",
    "\n",
    "y, the law-maker has adopted numerous regulations that paid little attention to the distinction between low-tech and widely available items and advanced proprietary technologies, which led to the creation of a system of export controls characterised as ‘fundamentally broken’57\n",
    "as well as ‘too rigorous, insufficiently rigorous,\n",
    "cumbersome, obsolete, inefficient, or any combination of these’.58\n",
    "\"\"\""
   ]
  },
  {
   "cell_type": "code",
   "execution_count": 27,
   "metadata": {
    "collapsed": false,
    "deletable": true,
    "editable": true
   },
   "outputs": [
    {
     "data": {
      "text/latex": [
       "\\onecolumnslide{\\begin{content} \n",
       " \\end{content}}{EU Internal Trade}"
      ],
      "text/plain": [
       "<IPython.core.display.Latex object>"
      ]
     },
     "metadata": {},
     "output_type": "display_data"
    },
    {
     "data": {
      "text/plain": [
       "'\\nThe EU has significantly altered its trade agreements - specifically forcing open trade within its borders.  However, this can be used to take advantage of the weakest link problem, or just to help start proliferation within the EU. External/Internal or international lists should be used to implement dual use export controls in the EU [Alavi2017].\\n'"
      ]
     },
     "execution_count": 27,
     "metadata": {},
     "output_type": "execute_result"
    }
   ],
   "source": [
    "slides.slidetype()\n",
    "slides.t('EU Internal Trade')\n",
    "slides.c('')\n",
    "'''\n",
    "The EU has significantly altered its trade agreements - specifically forcing open trade within its borders.  However, this can be used to take advantage of the weakest link problem, or just to help start proliferation within the EU. External/Internal or international lists should be used to implement dual use export controls in the EU [Alavi2017].\n",
    "'''"
   ]
  },
  {
   "cell_type": "code",
   "execution_count": 28,
   "metadata": {
    "collapsed": false,
    "deletable": true,
    "editable": true
   },
   "outputs": [
    {
     "data": {
      "text/latex": [
       "\\onecolumnslide{\\begin{content} \n",
       " \\end{content}}{Re-Export and Free Trade Zones}"
      ],
      "text/plain": [
       "<IPython.core.display.Latex object>"
      ]
     },
     "metadata": {},
     "output_type": "display_data"
    },
    {
     "data": {
      "text/plain": [
       "'\\nThe buying and reexportation of items causes many concerns for proliferation - use case study for Pakistan [Early 2009] Asher Karni and the triggered spark gaps.  This could be exploited by either willing proliferant countries, or by countries attempting to cut into international trade with free trade zones, such as the UAE [Early 2009].\\n'"
      ]
     },
     "execution_count": 28,
     "metadata": {},
     "output_type": "execute_result"
    }
   ],
   "source": [
    "slides.slidetype()\n",
    "slides.t('Re-Export and Free Trade Zones')\n",
    "slides.c('')\n",
    "'''\n",
    "The buying and reexportation of items causes many concerns for proliferation - use case study for Pakistan [Early 2009] Asher Karni and the triggered spark gaps.  This could be exploited by either willing proliferant countries, or by countries attempting to cut into international trade with free trade zones, such as the UAE [Early 2009].\n",
    "'''"
   ]
  },
  {
   "cell_type": "code",
   "execution_count": 29,
   "metadata": {
    "collapsed": false,
    "deletable": true,
    "editable": true
   },
   "outputs": [
    {
     "data": {
      "text/latex": [
       "\\part{Conclusion}"
      ],
      "text/plain": [
       "<IPython.core.display.Latex object>"
      ]
     },
     "metadata": {},
     "output_type": "display_data"
    },
    {
     "data": {
      "text/latex": [
       "\\def\\nameofchapter{Conclusion}"
      ],
      "text/plain": [
       "<IPython.core.display.Latex object>"
      ]
     },
     "metadata": {},
     "output_type": "display_data"
    }
   ],
   "source": [
    "slides.part('Conclusion')\n",
    "slides.chapter('Conclusion')"
   ]
  },
  {
   "cell_type": "code",
   "execution_count": 30,
   "metadata": {
    "collapsed": false,
    "deletable": true,
    "editable": true
   },
   "outputs": [
    {
     "data": {
      "text/latex": [
       "\\onecolumnslide{\\begin{content} \n",
       " \\end{content}}{}"
      ],
      "text/plain": [
       "<IPython.core.display.Latex object>"
      ]
     },
     "metadata": {},
     "output_type": "display_data"
    }
   ],
   "source": [
    "slides.slidetype()\n",
    "slides.t('')\n",
    "slides.c('')"
   ]
  },
  {
   "cell_type": "code",
   "execution_count": 31,
   "metadata": {
    "collapsed": false
   },
   "outputs": [
    {
     "data": {
      "text/latex": [
       "\\bibliographystyle{unsrt} \\bibliography{/Users/ahagen/bibs/nonproliferation.bib}"
      ],
      "text/plain": [
       "<IPython.core.display.Latex object>"
      ]
     },
     "execution_count": 31,
     "metadata": {},
     "output_type": "execute_result"
    }
   ],
   "source": [
    "slides.bibliography()"
   ]
  },
  {
   "cell_type": "code",
   "execution_count": 32,
   "metadata": {
    "collapsed": false
   },
   "outputs": [
    {
     "name": "stderr",
     "output_type": "stream",
     "text": [
      "/usr/local/lib/python2.7/site-packages/nbconvert/filters/datatypefilter.py:41: UserWarning: Your element with mimetype(s) [u'application/javascript'] is not able to be represented.\n",
      "  mimetypes=output.keys())\n",
      "/usr/local/lib/python2.7/site-packages/nbconvert/filters/datatypefilter.py:41: UserWarning: Your element with mimetype(s) [u'text/html'] is not able to be represented.\n",
      "  mimetypes=output.keys())\n"
     ]
    },
    {
     "data": {
      "text/html": [
       "<a href='./dual_use_export_controls.pdf' target='_blank'>./dual_use_export_controls.pdf</a><br>"
      ],
      "text/plain": [
       "/Users/ahagen/scholarship/duec/dual_use_export_controls.pdf"
      ]
     },
     "metadata": {},
     "output_type": "display_data"
    },
    {
     "data": {
      "text/html": [
       "<a href='./dual_use_export_controls.tex' target='_blank'>./dual_use_export_controls.tex</a><br>"
      ],
      "text/plain": [
       "/Users/ahagen/scholarship/duec/dual_use_export_controls.tex"
      ]
     },
     "metadata": {},
     "output_type": "display_data"
    }
   ],
   "source": [
    "slides.export('dual_use_export_controls')"
   ]
  }
 ],
 "metadata": {
  "hide_input": false,
  "kernelspec": {
   "display_name": "Python 2",
   "language": "python",
   "name": "python2"
  },
  "language_info": {
   "codemirror_mode": {
    "name": "ipython",
    "version": 2
   },
   "file_extension": ".py",
   "mimetype": "text/x-python",
   "name": "python",
   "nbconvert_exporter": "python",
   "pygments_lexer": "ipython2",
   "version": "2.7.14"
  },
  "latex_envs": {
   "LaTeX_envs_menu_present": true,
   "autocomplete": true,
   "bibliofile": "bibs/dissertation.bib",
   "cite_by": "apalike",
   "current_citInitial": 1,
   "eqLabelWithNumbers": true,
   "eqNumInitial": 1,
   "hotkeys": {
    "equation": "Ctrl-E",
    "itemize": "Ctrl-I"
   },
   "labels_anchors": false,
   "latex_user_defs": false,
   "report_style_numbering": false,
   "user_envs_cfg": false
  }
 },
 "nbformat": 4,
 "nbformat_minor": 2
}
